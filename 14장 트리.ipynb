{
 "cells": [
  {
   "cell_type": "markdown",
   "metadata": {},
   "source": [
    "# 트리"
   ]
  },
  {
   "cell_type": "markdown",
   "metadata": {},
   "source": [
    "### 트리는 순환구조를 갖지 않는 그래프다"
   ]
  },
  {
   "cell_type": "markdown",
   "metadata": {},
   "source": [
    "### 42. 이진트리의 최대 깊이"
   ]
  },
  {
   "cell_type": "code",
   "execution_count": null,
   "metadata": {},
   "outputs": [],
   "source": [
    "# 풀이 1. BFS (너비우선탐색) 방법으로 풀이\n",
    "# Definition for a binary tree node.\n",
    "# class TreeNode:\n",
    "#     def __init__(self, val=0, left=None, right=None):\n",
    "#         self.val = val\n",
    "#         self.left = left\n",
    "#         self.right = right\n",
    "class Solution:\n",
    "    def maxDepth(self, root: TreeNode) -> int:\n",
    "        # 예외처리\n",
    "        if root is None:\n",
    "            return 0\n",
    "        \n",
    "        queue = collections.deque([root])\n",
    "        depth = 0\n",
    "        \n",
    "        while queue:\n",
    "            depth += 1\n",
    "            # 큐 연산 추출 노드의 자식 노드 삽입\n",
    "            for _ in range(len(queue)):\n",
    "                cur_root = queue.popleft()\n",
    "                if cur_root.left:\n",
    "                    queue.append(cur_root.left)\n",
    "                if cur_root.right:\n",
    "                    queue.append(cur_root.right)\n",
    "            # BFS 반복횟수 == 깊이\n",
    "        return depth\n",
    "            "
   ]
  },
  {
   "cell_type": "markdown",
   "metadata": {},
   "source": [
    "### 43. 이진 트리의 직경\n",
    "\n",
    "이진 트리에서 두 노드간 가장 긴 경로의 길이를  출력하라"
   ]
  },
  {
   "cell_type": "code",
   "execution_count": null,
   "metadata": {},
   "outputs": [],
   "source": [
    "# 풀이 1. 상태값 누적 트리 DFS\n",
    "# Definition for a binary tree node.\n",
    "# class TreeNode:\n",
    "#     def __init__(self, val=0, left=None, right=None):\n",
    "#         self.val = val\n",
    "#         self.left = left\n",
    "#         self.right = right\n",
    "class Solution:\n",
    "    longest: int = 0\n",
    "        \n",
    "    def diameterOfBinaryTree(self, root: TreeNode) -> int:\n",
    "        def dfs(node: TreeNode) -> int:\n",
    "            if not node:\n",
    "                return -1\n",
    "            # 왼쪽, 오른쪽의 각 리프 노드까지 탐색\n",
    "            left = dfs(node.left)\n",
    "            right = dfs(node.right)\n",
    "            \n",
    "            # 가장 긴 경로\n",
    "            self.longest = max(self.longest, left + right + 2)\n",
    "            # 상태값\n",
    "            return max(left, right) + 1\n",
    "        \n",
    "        dfs(root)\n",
    "        return self.longest"
   ]
  },
  {
   "cell_type": "markdown",
   "metadata": {},
   "source": [
    "### 44. 가장 긴 동일 값의 경로\n",
    "\n",
    "동일한 값을 가진 가장 긴 경로를 찾아라"
   ]
  },
  {
   "cell_type": "code",
   "execution_count": null,
   "metadata": {},
   "outputs": [],
   "source": [
    "# 풀이 1. 상태값 거리 계산 DFS\n",
    "# Definition for a binary tree node.\n",
    "# class TreeNode:\n",
    "#     def __init__(self, val=0, left=None, right=None):\n",
    "#         self.val = val\n",
    "#         self.left = left\n",
    "#         self.right = right\n",
    "class Solution:\n",
    "    result: int = 0\n",
    "    def longestUnivaluePath(self, root: TreeNode) -> int:\n",
    "        def dfs(node: TreeNode):\n",
    "            if node is None:\n",
    "                return 0\n",
    "            \n",
    "            # 존재하지 않는 노드까지 DFS 재귀 탐색\n",
    "            left = dfs(node.left)\n",
    "            right = dfs(node.right)\n",
    "            \n",
    "            # 현재 노드가 자식 노드와 동일한 경우 거리 1 증가\n",
    "            if node.left and node.left.val == node.val:\n",
    "                left += 1\n",
    "            else: \n",
    "                left = 0\n",
    "                \n",
    "            if node.right and node.right.val == node.val:\n",
    "                right += 1\n",
    "            else:\n",
    "                right = 0\n",
    "                \n",
    "            # 왼쪽과 오른쪽 자식 노드 간 거리의 합 최댓값이 결과\n",
    "            self.result = max(self.result, left + right)\n",
    "            # 자식 노드 상태값 중 큰 값 리턴\n",
    "            return max(left, right)\n",
    "        \n",
    "        dfs(root)\n",
    "        return self.result"
   ]
  },
  {
   "cell_type": "markdown",
   "metadata": {},
   "source": [
    "### 45. 이진 트리 반전"
   ]
  },
  {
   "cell_type": "code",
   "execution_count": null,
   "metadata": {},
   "outputs": [],
   "source": [
    "# 풀이 1. 파이썬 다운 방식\n",
    "\n",
    "# Definition for a binary tree node.\n",
    "# class TreeNode:\n",
    "#     def __init__(self, val=0, left=None, right=None):\n",
    "#         self.val = val\n",
    "#         self.left = left\n",
    "#         self.right = right\n",
    "class Solution:\n",
    "    def invertTree(self, root: TreeNode) -> TreeNode:\n",
    "        if root:\n",
    "            root.left, root.right = self.invertTree(root.right), self.invertTree(root.left)\n",
    "            return root\n",
    "        return None"
   ]
  },
  {
   "cell_type": "code",
   "execution_count": null,
   "metadata": {},
   "outputs": [],
   "source": [
    "# 풀이 2. 반복 구조 BFS\n",
    "# Definition for a binary tree node.\n",
    "# class TreeNode:\n",
    "#     def __init__(self, val=0, left=None, right=None):\n",
    "#         self.val = val\n",
    "#         self.left = left\n",
    "#         self.right = right\n",
    "class Solution:\n",
    "    def invertTree(self, root: TreeNode) -> TreeNode:\n",
    "        queue = collections.deque([root])\n",
    "        \n",
    "        while queue:\n",
    "            node = queue.popleft()\n",
    "            # 부모 노드부터 하향식 스왑\n",
    "            if node:\n",
    "                node.left, node.right = node.right, node.left\n",
    "                \n",
    "                queue.append(node.left)\n",
    "                queue.append(node.right)\n",
    "                \n",
    "        return roota"
   ]
  },
  {
   "cell_type": "code",
   "execution_count": null,
   "metadata": {},
   "outputs": [],
   "source": [
    "# 풀이 3. 반복 구조로 DFS\n",
    "class Solution:\n",
    "    def invertTree(self, root: TreeNode) -> TreeNode:\n",
    "        stack = collections.deque([root])\n",
    "        \n",
    "        while stack:\n",
    "            node = stack.pop()\n",
    "            # 부모 노드 부터 하향식 스왑\n",
    "            if node:\n",
    "                node.left, node.right = node.right, node.left\n",
    "                \n",
    "                stack.append(node.left)\n",
    "                stack.append(node.right)\n",
    "        return root"
   ]
  },
  {
   "cell_type": "code",
   "execution_count": null,
   "metadata": {},
   "outputs": [],
   "source": [
    "# 풀이 4. 반복 구조로 DFS 후위 순회\n",
    "# Definition for a binary tree node.\n",
    "# class TreeNode:\n",
    "#     def __init__(self, val=0, left=None, right=None):\n",
    "#         self.val = val\n",
    "#         self.left = left\n",
    "#         self.right = right\n",
    "class Solution:\n",
    "    def invertTree(self, root: TreeNode) -> TreeNode:\n",
    "        stack = collections.deque([root])\n",
    "        \n",
    "        while stack:\n",
    "            node = stack.pop()\n",
    "            \n",
    "            if node:\n",
    "                stack.append(node.left)\n",
    "                stack.append(node.right)\n",
    "                \n",
    "                node.left, node.right = node.right, node.left\n",
    "                \n",
    "        return root"
   ]
  },
  {
   "cell_type": "markdown",
   "metadata": {},
   "source": [
    "### 46. 두 이진 트리 병합\n",
    "\n",
    "두 이진 트리를 병합하라. 중복되는 노드 값은 합산한다."
   ]
  },
  {
   "cell_type": "code",
   "execution_count": null,
   "metadata": {},
   "outputs": [],
   "source": [
    "# 풀이 1. 재귀 탐색\n",
    "# Definition for a binary tree node.\n",
    "# class TreeNode:\n",
    "#     def __init__(self, val=0, left=None, right=None):\n",
    "#         self.val = val\n",
    "#         self.left = left\n",
    "#         self.right = right\n",
    "class Solution:\n",
    "    def mergeTrees(self, t1: TreeNode, t2: TreeNode) -> TreeNode:\n",
    "        if t1 and t2:\n",
    "            node = TreeNode(t1.val + t2.val)\n",
    "            node.left = self.mergeTrees(t1.left, t2.left)\n",
    "            node.right = self.mergeTrees(t1.right, t2.right)\n",
    "            \n",
    "            return node\n",
    "        else:\n",
    "            return t1 or t2"
   ]
  },
  {
   "cell_type": "markdown",
   "metadata": {},
   "source": [
    "### 47. 이진 트리 직렬화 & 역직렬화\n",
    "\n",
    "이진 트리를 배열로 직렬화하고, 반대로 역질렬화하는 기능을 구현하라. 즉 다음과 같은 트리는 [1, 2, ,3, null, null, 4, 5] 형태로 직렬화할 수 있을 것이다."
   ]
  },
  {
   "cell_type": "code",
   "execution_count": 1,
   "metadata": {},
   "outputs": [
    {
     "name": "stderr",
     "output_type": "stream",
     "text": [
      "<>:34: SyntaxWarning: \"is not\" with a literal. Did you mean \"!=\"?\n",
      "<>:39: SyntaxWarning: \"is not\" with a literal. Did you mean \"!=\"?\n",
      "<>:34: SyntaxWarning: \"is not\" with a literal. Did you mean \"!=\"?\n",
      "<>:39: SyntaxWarning: \"is not\" with a literal. Did you mean \"!=\"?\n",
      "<ipython-input-1-408a18297852>:34: SyntaxWarning: \"is not\" with a literal. Did you mean \"!=\"?\n",
      "  if nodes[index] is not '#':\n",
      "<ipython-input-1-408a18297852>:39: SyntaxWarning: \"is not\" with a literal. Did you mean \"!=\"?\n",
      "  if nodes[index] is not '#':\n"
     ]
    }
   ],
   "source": [
    "# 풀이 1. 직렬화 & 역직렬화 구현 ★★★\n",
    "\n",
    "class Codec:\n",
    "\n",
    "    def serialize(self, root):\n",
    "        queue = collections.deque([root])\n",
    "        result = [ \"#\" ]\n",
    "        # 트리 BFS직렬화\n",
    "        while queue:\n",
    "            node = queue.popleft()\n",
    "            if node:\n",
    "                queue.append(node.left)\n",
    "                queue.append(node.right)\n",
    "                \n",
    "                result.append(str(node.val))\n",
    "                \n",
    "            else:\n",
    "                result.append(\"#\")\n",
    "        return ' '.join(result)\n",
    "    \n",
    "    # 역직렬화\n",
    "    def deserialize(self, data):\n",
    "        # 예외처리\n",
    "        if data == \"# #\":\n",
    "            return None\n",
    "        nodes = data.split()\n",
    "        \n",
    "        root = TreeNode(int(nodes[1]))\n",
    "        queue = collections.deque([root])\n",
    "        index = 2\n",
    "        # 빠른 런너처럼 자식 노드 결과를 먼저 확인 후 큐 삽입\n",
    "        while queue:\n",
    "            node = queue.popleft()\n",
    "            if nodes[index] is not '#':\n",
    "                node.left = TreeNode(int(nodes[index]))\n",
    "                queue.append(node.left)\n",
    "            index += 1\n",
    "            \n",
    "            if nodes[index] is not '#':\n",
    "                node.right = TreeNode(int(nodes[index]))\n",
    "                queue.append(node.right)\n",
    "            index += 1\n",
    "            \n",
    "        return root\n",
    "\n",
    "# Your Codec object will be instantiated and called as such:\n",
    "# ser = Codec()\n",
    "# deser = Codec()\n",
    "# ans = deser.deserialize(ser.serialize(root))"
   ]
  },
  {
   "cell_type": "markdown",
   "metadata": {},
   "source": [
    "### 48. 균형 이진 트리\n",
    "\n",
    "이진 트리가 노이 균형인지 판단하라"
   ]
  },
  {
   "cell_type": "code",
   "execution_count": null,
   "metadata": {},
   "outputs": [],
   "source": [
    "# 풀이 1. 재귀 구조로 높이 차이 계산\n",
    "\n",
    "class Solution:\n",
    "    def isBalanced(self, root: TreeNode) -> bool:\n",
    "        def check(root):\n",
    "            if not root:\n",
    "                return 0\n",
    "            \n",
    "            left = check(root.left)\n",
    "            right = check(root.right)\n",
    "            # 높이 차이가 나는 경우 -1, 이외에는 높이에 따라 1 증가\n",
    "            if left == -1 or right == -1 or abs(left - right) >1 :\n",
    "                return -1\n",
    "            return max(left, right) + 1\n",
    "        \n",
    "        return check(root) != -1\n",
    "            "
   ]
  },
  {
   "cell_type": "markdown",
   "metadata": {},
   "source": [
    "### 49. 최소 높이 트리 ★\n",
    "\n",
    "노드 개수와 무방향 그래프를 입력받아 트리가 최소 높이가 되는 루트의 목록을 리턴하라."
   ]
  },
  {
   "cell_type": "code",
   "execution_count": null,
   "metadata": {},
   "outputs": [],
   "source": [
    "# 풀이 1. 단계별 리프 노드 제거\n",
    "class Solution:\n",
    "    def findMinHeightTrees(self, n: int, edges: List[List[int]]) -> List[int]:\n",
    "        \n",
    "        if n <= 1:\n",
    "            return [0]\n",
    "        \n",
    "        # 양방향 그래프 구성\n",
    "        graph = collections.defaultdict(list)\n",
    "        for i, j in edges:\n",
    "            graph[i].append(j)\n",
    "            graph[j].append(i)\n",
    "        \n",
    "        # 첫 번째 리프 노드 추가\n",
    "        leaves = []\n",
    "        for i in range(n + 1):\n",
    "            if len(graph[i]) == 1:\n",
    "                leaves.append(i)\n",
    "                \n",
    "        # 루프 노드만 남을 때까지 반복 제거\n",
    "        while n > 2:\n",
    "            n -= len(leaves)\n",
    "            new_leaves = []\n",
    "            for leaf in leaves:\n",
    "                neighbor = graph[leaf].pop()\n",
    "                graph[neighbor].remove(leaf)\n",
    "                \n",
    "                if len(graph[neighbor]) == 1:\n",
    "                    new_leaves.append(neighbor)\n",
    "                    \n",
    "            leaves = new_leaves\n",
    "            \n",
    "        return leaves"
   ]
  },
  {
   "cell_type": "markdown",
   "metadata": {},
   "source": [
    "### 50. 정렬된 배열의 이진 탐색 트리 변환"
   ]
  },
  {
   "cell_type": "code",
   "execution_count": null,
   "metadata": {},
   "outputs": [],
   "source": [
    "# 풀이 1. 이진 검색 결과로 트리 구성\n",
    "# Definition for a binary tree node.\n",
    "# class TreeNode:\n",
    "#     def __init__(self, val=0, left=None, right=None):\n",
    "#         self.val = val\n",
    "#         self.left = left\n",
    "#         self.right = right\n",
    "class Solution:\n",
    "    def sortedArrayToBST(self, nums: List[int]) -> TreeNode:\n",
    "        if not nums:\n",
    "            return None\n",
    "        \n",
    "        mid = len(nums) // 2\n",
    "        \n",
    "        # 분할 정복으로 이진 검색 결과 트리구성\n",
    "        node = TreeNode(nums[mid])\n",
    "        node.left = self.sortedArrayToBST(nums[:mid])\n",
    "        node.right = self.sortedArrayToBST(nums[mid+1:])\n",
    "        \n",
    "        return node"
   ]
  }
 ],
 "metadata": {
  "kernelspec": {
   "display_name": "Python 3",
   "language": "python",
   "name": "python3"
  },
  "language_info": {
   "codemirror_mode": {
    "name": "ipython",
    "version": 3
   },
   "file_extension": ".py",
   "mimetype": "text/x-python",
   "name": "python",
   "nbconvert_exporter": "python",
   "pygments_lexer": "ipython3",
   "version": "3.8.5"
  }
 },
 "nbformat": 4,
 "nbformat_minor": 4
}
