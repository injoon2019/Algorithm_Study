{
 "cells": [
  {
   "cell_type": "markdown",
   "metadata": {},
   "source": [
    "# 최단 경로 문제"
   ]
  },
  {
   "cell_type": "markdown",
   "metadata": {},
   "source": [
    "### 40. 네트워크 딜레이 타임"
   ]
  },
  {
   "cell_type": "code",
   "execution_count": null,
   "metadata": {},
   "outputs": [],
   "source": [
    "# 풀이 1. 다익스트라 알고리즘 구현\n",
    "class Solution:\n",
    "    def networkDelayTime(self, times: List[List[int]], n: int, k: int) -> int:\n",
    "        graph = collections.defaultdict(list)   # dict 구조 생성\n",
    "        # 그래프 인접 리스트 구성\n",
    "        for u, v, w in times:\n",
    "            graph[u].append((v, w))\n",
    "            \n",
    "        # 큐 변수\n",
    "        Q = [(0, k)]\n",
    "        \n",
    "        dist = collections.defaultdict(int)\n",
    "        \n",
    "        # 우선순위 큐 최솟값 기준으로 정점까지 최단 경로 삽입\n",
    "        while Q:\n",
    "            time, node = heapq.heappop(Q)\n",
    "            if node not in dist:\n",
    "                dist[node] = time\n",
    "                for v, w in graph[node]:\n",
    "                    alt = time + w\n",
    "                    heapq.heappush(Q, (alt, v))\n",
    "                    \n",
    "        # 모든 노드의 최단 경로 존재 여부 판별\n",
    "        if len(dist) == n:\n",
    "            return max(dist.values())\n",
    "        return -1"
   ]
  },
  {
   "cell_type": "code",
   "execution_count": 2,
   "metadata": {},
   "outputs": [],
   "source": [
    "import heapq"
   ]
  },
  {
   "cell_type": "code",
   "execution_count": 3,
   "metadata": {},
   "outputs": [],
   "source": [
    "a = [(1, 2)]\n",
    "\n",
    "one, two = heapq.heappop(a)"
   ]
  },
  {
   "cell_type": "code",
   "execution_count": 4,
   "metadata": {},
   "outputs": [
    {
     "name": "stdout",
     "output_type": "stream",
     "text": [
      "1 2\n"
     ]
    }
   ],
   "source": [
    "print( one, two )"
   ]
  },
  {
   "cell_type": "markdown",
   "metadata": {},
   "source": [
    "### 41. K 경유지 내 가장 저렴한 항공권\n",
    "\n",
    "시작점에서 도착점까지의 가장 저렴한 가격을 계산하되, k개 이내에 도착하는 가격을 리턴하라, 경로가 존재하지 않을 경우 -1을 리턴한다."
   ]
  },
  {
   "cell_type": "code",
   "execution_count": null,
   "metadata": {},
   "outputs": [],
   "source": [
    "# 풀이 1. 다익스트라 알고리즘 구현\n",
    "class Solution:\n",
    "    def findCheapestPrice(self, n: int, flights: List[List[int]], src: int, dst: int, K: int) -> int:\n",
    "        graph = collections.defaultdict(list)   # dict 구조 생성\n",
    "        # 그래프 인접 리스트 구성\n",
    "        for u, v, w in flights:\n",
    "            graph[u].append((v, w))\n",
    "            \n",
    "        # 큐 변수 (가격, 정점, 남은 가능 경유지 수)\n",
    "        Q = [(0, src, K)]\n",
    "          \n",
    "\n",
    "        # 우선순위 큐 최솟값 기준으로 정점까지 최단 경로 삽입\n",
    "        while Q:\n",
    "            price, node, k = heapq.heappop(Q)\n",
    "            if node == dst:\n",
    "                return price\n",
    "            if k >= 0:\n",
    "                for v, w in graph[node]:\n",
    "                    alt = price + w\n",
    "                    heapq.heappush(Q, (alt, v, k - 1))\n",
    "        return -1class Solution:\n",
    "    def findCheapestPrice(self, n: int, flights: List[List[int]], src: int, dst: int, K: int) -> int:\n",
    "        graph = collections.defaultdict(list)   # dict 구조 생성\n",
    "        # 그래프 인접 리스트 구성\n",
    "        for u, v, w in flights:\n",
    "            graph[u].append((v, w))\n",
    "            \n",
    "        # 큐 변수 (가격, 정점, 남은 가능 경유지 수)\n",
    "        Q = [(0, src, K)]\n",
    "          \n",
    "\n",
    "        # 우선순위 큐 최솟값 기준으로 정점까지 최단 경로 삽입\n",
    "        while Q:\n",
    "            price, node, k = heapq.heappop(Q)\n",
    "            if node == dst:\n",
    "                return price\n",
    "            if k >= 0:\n",
    "                for v, w in graph[node]:\n",
    "                    alt = price + w\n",
    "                    heapq.heappush(Q, (alt, v, k - 1))\n",
    "        return -1\n",
    "    "
   ]
  },
  {
   "cell_type": "code",
   "execution_count": null,
   "metadata": {},
   "outputs": [],
   "source": []
  }
 ],
 "metadata": {
  "kernelspec": {
   "display_name": "Python 3",
   "language": "python",
   "name": "python3"
  },
  "language_info": {
   "codemirror_mode": {
    "name": "ipython",
    "version": 3
   },
   "file_extension": ".py",
   "mimetype": "text/x-python",
   "name": "python",
   "nbconvert_exporter": "python",
   "pygments_lexer": "ipython3",
   "version": "3.8.5"
  }
 },
 "nbformat": 4,
 "nbformat_minor": 4
}
