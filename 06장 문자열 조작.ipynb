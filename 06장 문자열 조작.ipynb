{
 "cells": [
  {
   "cell_type": "markdown",
   "metadata": {},
   "source": [
    "# 6장 문자열 조작"
   ]
  },
  {
   "cell_type": "markdown",
   "metadata": {},
   "source": [
    "### 6-1 유효한 팰린드롬\n",
    "\n",
    "주어진 문자열이 팰린드롬인지 확인, 대소문자를 구분하지 않으며, 영문자와 숫자만을 대상으로 함.\n",
    "\n",
    "isalnum 함수를 사용"
   ]
  },
  {
   "cell_type": "code",
   "execution_count": 13,
   "metadata": {},
   "outputs": [
    {
     "name": "stdout",
     "output_type": "stream",
     "text": [
      "팰린드롬 검사 : maan\n",
      "['M', 'A', 'A', 'N']\n",
      "false\n"
     ]
    }
   ],
   "source": [
    "list_string = []\n",
    "\n",
    "input_string = input(\"팰린드롬 검사 : \")\n",
    "\n",
    "for char in input_string:\n",
    "    if char.isalnum():\n",
    "        list_string.append(char.upper())\n",
    "        \n",
    "print(list_string)\n",
    "\n",
    "cheak = 1\n",
    "\n",
    "while (len(list_string)>1):\n",
    "    left_char = list_string[0]\n",
    "    right_char = list_string.pop()\n",
    "    del list_string[0]\n",
    "    \n",
    "    if left_char!=right_char:\n",
    "        cheak = 0\n",
    "        break\n",
    "\n",
    "if cheak==1:\n",
    "    print(\"true\")\n",
    "else:\n",
    "    print(\"false\")"
   ]
  },
  {
   "cell_type": "code",
   "execution_count": 22,
   "metadata": {},
   "outputs": [],
   "source": [
    "# 풀이\n",
    "\n",
    "# 리스트 변환 풀이\n",
    "def isPalindrome_list(s: str) -> bool:\n",
    "    strs = []\n",
    "    for char in s:\n",
    "        if char.isalnum():\n",
    "            strs.append(char.lower())\n",
    "    \n",
    "    # 팰린드롬 여부 판별\n",
    "    while len(strs) > 1:\n",
    "        if strs.pop(0) != strs.pop():\n",
    "            return False\n",
    "        \n",
    "    return True\n",
    "\n",
    "# deque 사용\n",
    "from collections import deque\n",
    "\n",
    "def isPalindrome_deque(s: str) -> bool:\n",
    "    strs = deque(s)\n",
    "    for char in s:\n",
    "        if char.isalnum():\n",
    "            strs.append(char.lower())\n",
    "    while len(strs) > 1:\n",
    "        if strs.popleft() != strs.pop():\n",
    "            return False\n",
    "        \n",
    "    return True\n",
    "\n",
    "# 슬라이싱 사용\n",
    "\n",
    "import re\n",
    "def isPalindrome_slice(s: str) -> bool:\n",
    "    s = s.lower()\n",
    "    # 정규표현식 사용\n",
    "    s = re.sub('[^a-z0-9]', '', s)\n",
    "    \n",
    "    return s == s[::-1]"
   ]
  },
  {
   "cell_type": "code",
   "execution_count": 27,
   "metadata": {},
   "outputs": [
    {
     "name": "stdout",
     "output_type": "stream",
     "text": [
      "amnb\n",
      "False\n",
      "amnb\n",
      "False\n",
      "amna\n",
      "False\n"
     ]
    }
   ],
   "source": [
    "# 리스트 활용\n",
    "print(isPalindrome_list(input()))\n",
    "# deque 활용\n",
    "print(isPalindrome_deque(input()))\n",
    "# 슬라이싱 사용\n",
    "print(isPalindrome_slice(input()))"
   ]
  },
  {
   "cell_type": "markdown",
   "metadata": {},
   "source": [
    "### 6-2 문자열 뒤집기\n",
    "\n",
    "문자열을 뒤집는 함수를 작성하라, 입력값은 문자 배열이며, 리턴 없이 리스트 내부를 직접 조작하라"
   ]
  },
  {
   "cell_type": "code",
   "execution_count": 34,
   "metadata": {},
   "outputs": [
    {
     "name": "stdout",
     "output_type": "stream",
     "text": [
      "hello\n",
      "['o', 'l', 'l', 'e', 'h']\n"
     ]
    }
   ],
   "source": [
    "def reverse_string(s: str):\n",
    "    print(s[::-1])\n",
    "\n",
    "reverse_string(list(input()))"
   ]
  },
  {
   "cell_type": "code",
   "execution_count": 51,
   "metadata": {},
   "outputs": [
    {
     "name": "stdout",
     "output_type": "stream",
     "text": [
      "hello\n",
      "['h', 'e', 'l', 'l', 'o']\n",
      "['o', 'l', 'l', 'e', 'h']\n"
     ]
    }
   ],
   "source": [
    "# 풀이 \n",
    "\n",
    "#파이썬다운 방식\n",
    "\n",
    "def ReverseString(s):\n",
    "    s.reverse() # 리버스는 리스트 안의 요소를 뒤집어줄 뿐 리턴하지 않는다.\n",
    "\n",
    "s = list(input())\n",
    "print(s)\n",
    "\n",
    "ReverseString(s) \n",
    "print(s)"
   ]
  },
  {
   "cell_type": "markdown",
   "metadata": {},
   "source": [
    "### 6-3 로그 파일 재정렬\n",
    "\n",
    "로그를 재정렬하라. 기준은 다음과 같다.\n",
    "1. 로그의 가장 앞 부분은 식별자다.\n",
    "2. 문자로 구성된 로그가 숫자 로그보다 앞에 온다.\n",
    "3. 식별자는 순서에 영향을 끼치지 않지만, 문자가 동일한 경우 식별자 순으로 한다.\n",
    "4. 숫자 로그는 입력 순서대로 한다."
   ]
  },
  {
   "cell_type": "code",
   "execution_count": null,
   "metadata": {},
   "outputs": [],
   "source": [
    "# 풀이\n",
    "def reorderLogFiles(logs: List[str]) -> List[str]:\n",
    "    letters, digits = [], []\n",
    "    \n",
    "    for log in logs:\n",
    "        if log.split()[1].isdigit(): # isdigit() 함수는 문자열이 숫자로 구성되어있는가 bool 타입으로 리턴하는 함수다.\n",
    "            digits.append(log)\n",
    "        else:\n",
    "            letters.append(log)\n",
    "    \n",
    "    # 람다를 간편하게 설명하자면, 간편함수 혹은 임시 함수로 정의할 수 있음\n",
    "    # 아래 sort 함수를 사용한 코드의 key(기준)를 람다식으로 정의했으며, 정렬의 기준을 로그의 알파뱃 순으로 진행하며,\n",
    "    # 로그가 동일할 경우 식별자 순으로 정렬한다.\n",
    "    letters.sort(key=lambda x: (x.split()[1:], x.split()[0])) \n",
    "    return letters + digits"
   ]
  },
  {
   "cell_type": "markdown",
   "metadata": {},
   "source": [
    "### 6-4 가장 흔한 단어\n",
    "\n",
    "금지된 단어를 제외한 가장 흔하게 출력되는 단어를 출력하라, 대소문자를 구분하지 않으며 구두점을 무시한다.\n",
    "\n",
    "풀이 계획\n",
    "1. 입력받은 문자열을 lower()후 split() 실행\n",
    "2. for문을 통해 영어와 숫자만 추출 후 추출된 단어가 ban에 속한 단어라면 제외\n",
    "3. 딕셔너리와 for문을 이용해 각 단어별 value에 빈도수를 기록\n",
    "4. 딕셔너리 제어를 통해 가장 큰 빈도수를 가진 단어를 출력"
   ]
  },
  {
   "cell_type": "code",
   "execution_count": 73,
   "metadata": {},
   "outputs": [
    {
     "name": "stdout",
     "output_type": "stream",
     "text": [
      "ball\n"
     ]
    }
   ],
   "source": [
    "def countString(s, ban):\n",
    "    s = s.lower().split()\n",
    "    strs = []\n",
    "    for char in s:\n",
    "        char = re.sub('[^a-z0-9]', '', char)\n",
    "        if char not in ban:\n",
    "            strs.append(char)\n",
    "    \n",
    "    dic = {}\n",
    "    \n",
    "    for char in strs:\n",
    "        if dic.get(char) is None:\n",
    "            dic[char] = 1\n",
    "        else:\n",
    "            dic[char] += 1\n",
    "    \n",
    "    max_value = max(dic.values())\n",
    "    \n",
    "    for k, v in dic.items():\n",
    "        if v == max_value:\n",
    "            return (str(k))\n",
    "\n",
    "\n",
    "s = \"Bob hit a ball, the hit BALL flew far after it was hit\"\n",
    "ban = [\"hit\"]\n",
    "\n",
    "print(countString(s, ban))"
   ]
  },
  {
   "cell_type": "code",
   "execution_count": 68,
   "metadata": {},
   "outputs": [],
   "source": [
    "# 풀이 \n",
    "# collections의 Counter 함수를 이용\n",
    "import collections\n",
    "\n",
    "def mostCommonWord(strs, ban):\n",
    "    words = [word for word in re.sub(r'[^\\w]', ' ', strs)\n",
    "             .lower().split()\n",
    "                if word not in ban]\n",
    "    counts = collections.Counter(words)\n",
    "    \n",
    "    return counts.most_common(1)[0][0]"
   ]
  },
  {
   "cell_type": "code",
   "execution_count": 69,
   "metadata": {},
   "outputs": [
    {
     "data": {
      "text/plain": [
       "'ball'"
      ]
     },
     "execution_count": 69,
     "metadata": {},
     "output_type": "execute_result"
    }
   ],
   "source": [
    "mostCommonWord(s, ban)"
   ]
  },
  {
   "cell_type": "markdown",
   "metadata": {},
   "source": [
    "### 6-5 그룹 애너그램\n",
    "\n",
    "문자열 배열을 받아 애너그램 단위로 그룹핑하라.\n",
    "\n",
    "풀이 계획\n",
    "1. sorted 함수를 이용해 문자열의 알파벳을 정렬\n",
    "2. join 함수를 이용해 문자열을 재조합 후 비교\n",
    "3. 일치한 문자열끼리 원래 단어로 리스트를 만들어야하는데...? 으아아아아"
   ]
  },
  {
   "cell_type": "code",
   "execution_count": 1,
   "metadata": {},
   "outputs": [
    {
     "name": "stdout",
     "output_type": "stream",
     "text": [
      "dict_values([['eat', 'tea', 'ate'], ['tan', 'nat'], ['bat']])\n"
     ]
    }
   ],
   "source": [
    "# 풀이\n",
    "import collections \n",
    "def GroupAnagram(words):\n",
    "    result = collections.defaultdict(list) # collections 라이브러리의 defaultdict 함수의 기본값을 리스트로 지정\n",
    "    \n",
    "    for word in words:\n",
    "        result[''.join(sorted(word))].append(word) # 위 선언한 result 딕셔너리에 정렬한 문자열을 키로, word를 값으로 추가\n",
    "        \n",
    "    return result.values() # 리스트로 모인 값들만 반환\n",
    "\n",
    "input_words = ['eat', 'tea', 'tan', 'ate', 'nat', 'bat']\n",
    "print(GroupAnagram(input_words))"
   ]
  },
  {
   "cell_type": "markdown",
   "metadata": {},
   "source": [
    "### 6-6 가장 긴 팰린드롬\n",
    "\n",
    "가장 긴 팰린드롬 부분 문자열을 출력\n",
    "\n",
    "입력) \"babad\"  \n",
    "출력) \"bab\" 혹은 \"aba\""
   ]
  },
  {
   "cell_type": "code",
   "execution_count": 9,
   "metadata": {},
   "outputs": [
    {
     "name": "stdout",
     "output_type": "stream",
     "text": [
      "bab\n"
     ]
    }
   ],
   "source": [
    "def longestPalindrome(words):\n",
    "    \n",
    "    # 팰랜드롬 판별 및 투포인터 확장\n",
    "    def expand(start, end):\n",
    "        while start >= 0 and end <= len(words) and words[start]==words[end-1]:\n",
    "            start -= 1\n",
    "            end += 1\n",
    "        return words[start+1:end-1]\n",
    "    \n",
    "    # 해당사항 없을 때 빠르게 리턴\n",
    "    if len(words) < 2 or words == words[::-1]:\n",
    "        return words\n",
    "    \n",
    "    result = \"\"\n",
    "    \n",
    "    # 슬라이딩 윈도우 우측으로 이동\n",
    "    for i in range(len(words) -1):\n",
    "        result = max(result,\n",
    "                    expand(i, i + 1),\n",
    "                    expand(i, i + 2),\n",
    "                    key=len)\n",
    "    return result\n",
    "input_words = \"babad\"\n",
    "print(longestPalindrome(input_words))"
   ]
  },
  {
   "cell_type": "code",
   "execution_count": null,
   "metadata": {},
   "outputs": [],
   "source": []
  }
 ],
 "metadata": {
  "kernelspec": {
   "display_name": "Python 3",
   "language": "python",
   "name": "python3"
  },
  "language_info": {
   "codemirror_mode": {
    "name": "ipython",
    "version": 3
   },
   "file_extension": ".py",
   "mimetype": "text/x-python",
   "name": "python",
   "nbconvert_exporter": "python",
   "pygments_lexer": "ipython3",
   "version": "3.8.5"
  }
 },
 "nbformat": 4,
 "nbformat_minor": 2
}
