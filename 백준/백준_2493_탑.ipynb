{
 "cells": [
  {
   "cell_type": "markdown",
   "metadata": {},
   "source": [
    "# 2493번 탑\n",
    "\n",
    "일직선 위에 N개의 높이가 서로 다른 탑을 수평 직선의 왼쪽부터 오른쪽까지 차례대로 세우고,  \n",
    "각 탑의 꼭대기에 수신기를 설치, 탑의 왼쪽 방향으로 레이저 신호 발사 한다.  \n",
    "수신된발사된 탑의 높이보다 높은 탑이 신호를 수신할 수 있다."
   ]
  },
  {
   "cell_type": "markdown",
   "metadata": {},
   "source": [
    "예제 입력\n",
    "6 9 5 7 4  \n",
    "\n",
    "예제 출력\n",
    "0 0 2 2 4"
   ]
  },
  {
   "cell_type": "code",
   "execution_count": 25,
   "metadata": {},
   "outputs": [],
   "source": [
    "# 입력\n",
    "n = 5\n",
    "tower = [6, 9, 5, 7, 4]"
   ]
  },
  {
   "cell_type": "markdown",
   "metadata": {},
   "source": [
    "### 계획\n",
    "\n",
    "1. 2중 for문\n",
    "2. 스택\n",
    "3. 투 포인트"
   ]
  },
  {
   "cell_type": "code",
   "execution_count": 21,
   "metadata": {},
   "outputs": [
    {
     "name": "stdout",
     "output_type": "stream",
     "text": [
      "-1\n",
      "-2\n",
      "-3\n",
      "-4\n",
      "-5\n"
     ]
    }
   ],
   "source": [
    "for i in range(-1, -(len(top_list)+1), -1):\n",
    "    print(i)"
   ]
  },
  {
   "cell_type": "code",
   "execution_count": 23,
   "metadata": {},
   "outputs": [
    {
     "name": "stdout",
     "output_type": "stream",
     "text": [
      "1\n",
      "2\n",
      "3\n",
      "4\n"
     ]
    },
    {
     "data": {
      "text/plain": [
       "[0, 0, 2, 2, 4]"
      ]
     },
     "execution_count": 23,
     "metadata": {},
     "output_type": "execute_result"
    }
   ],
   "source": [
    "# 2중 for문\n",
    "def topLaser(num, height):\n",
    "\n",
    "    result = [0]\n",
    "    top = 0\n",
    "    \n",
    "    for i in range(1, num, 1):\n",
    "        \n",
    "        if height[i-1] > height[i]:\n",
    "            top = i\n",
    "            \n",
    "        result.append(top)\n",
    "        print(i)\n",
    "    \n",
    "    return result\n",
    "        \n",
    "        \n",
    "topLaser(num, height)"
   ]
  },
  {
   "cell_type": "markdown",
   "metadata": {},
   "source": [
    "### 아래 풀이의 잘못된 점\n",
    "\n",
    "근접한 i의 크기만 비교하기 때문에 테스트 케이스에서 타워의 높이가\n",
    "\n",
    "한없이 높아지거나\n",
    "\n",
    "한없이 낮아지는 경우 제대로 된 정답을 얻을 수 없다"
   ]
  },
  {
   "cell_type": "code",
   "execution_count": 34,
   "metadata": {},
   "outputs": [
    {
     "name": "stdout",
     "output_type": "stream",
     "text": [
      "0 0 2 2 4\n"
     ]
    }
   ],
   "source": [
    "def topLaser(num, height):\n",
    "\n",
    "    result = [0]\n",
    "    top = 0\n",
    "    \n",
    "    for i in range(1, num, 1):\n",
    "        \n",
    "        if height[i-1] > height[i]:\n",
    "            top = i\n",
    "            \n",
    "        result.append(top)\n",
    "    \n",
    "    return result\n",
    "        \n",
    "print(' '.join(list(map(str, topLaser(n, tower)))))        \n",
    "\n"
   ]
  },
  {
   "cell_type": "code",
   "execution_count": 35,
   "metadata": {},
   "outputs": [
    {
     "name": "stdout",
     "output_type": "stream",
     "text": [
      "0 0 2 2 4\n"
     ]
    }
   ],
   "source": [
    "# 스택으로 푼다면?\n",
    "\n",
    "def towerlaser(n, tower):\n",
    "    \n",
    "    stack = []\n",
    "    result = [0]\n",
    "    \n",
    "    for i, v in enumerate(tower):\n",
    "        \n",
    "        while stack:\n",
    "            if stack[-1][1] > v:                  # 스택에 쌓여있는 탑이 현재 탑보다 클 경우\n",
    "                result.append(stack[-1][0]+1)\n",
    "                break\n",
    "            \n",
    "            else:                                 # stack[-1][1] < v  // 현재 탑의 높이가 스택의 탑 높이보다 크므로\n",
    "                stack.pop()                       # 큰 탑이 나올때 까지 파본다\n",
    "            \n",
    "            if not stack:                        # 수신가능한 탑이 없을 때 = 스택을 다 뒤져봤는데 높은 탑이 안나왔다\n",
    "                result.append(0)                 # 결과에 0을 집어 넣고 \n",
    "                break                           # 종료\n",
    "        \n",
    "        stack.append([i, v])\n",
    "        \n",
    "        \n",
    "        \n",
    "        \n",
    "    return result\n",
    "\n",
    "print(' '.join(list(map(str, topLaser(n, tower)))))     "
   ]
  },
  {
   "cell_type": "code",
   "execution_count": 36,
   "metadata": {},
   "outputs": [
    {
     "name": "stdout",
     "output_type": "stream",
     "text": [
      "0 0 2 2 4\n"
     ]
    }
   ],
   "source": [
    "# 스택으로 푼다면?\n",
    "\n",
    "def towerlaser(n, tower):\n",
    "    \n",
    "    stack = []\n",
    "    result = [0]\n",
    "    \n",
    "    for i in range(len(tower)):\n",
    "        \n",
    "        while stack:\n",
    "            if stack[-1][1] > tower[i]: # 스택에 쌓여있는 탑이 현재 탑보다 클 경우\n",
    "                result.append(stack[-1][0]+1) # 몇번째 탑인지 기록하기 위해 인덱스 + 1\n",
    "                break\n",
    "            \n",
    "            else: # stack[-1][1] < v  // 현재 탑의 높이가 스택의 탑 높이보다 크므로\n",
    "                stack.pop() # 큰 탑이 나올때 까지 파본다\n",
    "            \n",
    "            if not stack: # 수신가능한 탑이 없을 때 = 스택을 다 뒤져봤는데 높은 탑이 안나왔다\n",
    "                result.append(0) # 결과에 0을 집어 넣고 \n",
    "                break  # 종료\n",
    "        \n",
    "        stack.append([i, tower[i]])\n",
    "        \n",
    "        \n",
    "        \n",
    "        \n",
    "    return result\n",
    "\n",
    "print(' '.join(list(map(str, topLaser(n, tower)))))     "
   ]
  }
 ],
 "metadata": {
  "kernelspec": {
   "display_name": "Python 3",
   "language": "python",
   "name": "python3"
  },
  "language_info": {
   "codemirror_mode": {
    "name": "ipython",
    "version": 3
   },
   "file_extension": ".py",
   "mimetype": "text/x-python",
   "name": "python",
   "nbconvert_exporter": "python",
   "pygments_lexer": "ipython3",
   "version": "3.8.5"
  }
 },
 "nbformat": 4,
 "nbformat_minor": 4
}
