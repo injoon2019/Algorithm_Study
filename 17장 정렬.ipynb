{
 "cells": [
  {
   "cell_type": "markdown",
   "metadata": {},
   "source": [
    "### 58. 리스트 정렬"
   ]
  },
  {
   "cell_type": "code",
   "execution_count": null,
   "metadata": {},
   "outputs": [],
   "source": [
    "# 풀이 1. 병합 정렬\n",
    "class Solution:\n",
    "    def mergeTwoLists(self, l1: ListNode, l2: ListNode) -> ListNode:\n",
    "        if l1 and l2:\n",
    "            if l1.val > l2.val:\n",
    "                l1, l2 = l2, l1\n",
    "            l1.next = self.mergeTwoLists(l1.next, l2)\n",
    "        \n",
    "        return l1 or l2\n",
    "    \n",
    "    def sortList(self, head: ListNode) -> ListNode:\n",
    "        if not (head and head.next):\n",
    "            return head\n",
    "        \n",
    "        # 런너 기법 활용\n",
    "        half, slow, fast = None, head, head\n",
    "        while fast and fast.next:\n",
    "            half, slow, fast = slow, slow.next, fast.next.next\n",
    "        half.next = None\n",
    "        \n",
    "        # 분할 재귀 호출\n",
    "        l1 = self.sortList(head)\n",
    "        l2 = self.sortList(slow)\n",
    "        \n",
    "        return self.mergeTwoLists(l1, l2)"
   ]
  },
  {
   "cell_type": "code",
   "execution_count": null,
   "metadata": {},
   "outputs": [],
   "source": [
    "# 풀이 3. 내장 함수 이용\n",
    "class Solution:\n",
    "    def sortList(self, head: ListNode) -> ListNode:\n",
    "        # 연결 리스트 -> 파이썬 리스트\n",
    "        p = head\n",
    "        lst: List = []\n",
    "        while p:\n",
    "            lst.append(p.val)\n",
    "            p = p.next\n",
    "            \n",
    "        # 정렬\n",
    "        lst.sort()\n",
    "        \n",
    "        # 파이썬 리스트 -> 연결 리스트\n",
    "        p = head\n",
    "        for i in range(len(lst)):\n",
    "            p.val = lst[i]\n",
    "            p = p.next\n",
    "            \n",
    "        return head"
   ]
  },
  {
   "cell_type": "markdown",
   "metadata": {},
   "source": [
    "### 59. 구간 병합\n",
    "\n",
    "겹치는 구간을 병합하라."
   ]
  },
  {
   "cell_type": "code",
   "execution_count": null,
   "metadata": {},
   "outputs": [],
   "source": [
    "# 풀이 1. 정렬하여 병합\n",
    "class Solution:\n",
    "    def merge(self, intervals: List[List[int]]) -> List[List[int]]:\n",
    "        merged = []\n",
    "        for i in sorted(intervals, key=lambda x: x[0]):\n",
    "            if merged and i[0] <= merged[-1][1]:\n",
    "                merged[-1][1] = max(merged[-1][1]. i[1])\n",
    "            else:\n",
    "                merged += i,\n",
    "                \n",
    "            return merged"
   ]
  },
  {
   "cell_type": "markdown",
   "metadata": {},
   "source": [
    "### 60. 삽입 정렬 리스트\n",
    "\n",
    "연결 리스트를 삽입 정렬로 정렬하라"
   ]
  },
  {
   "cell_type": "code",
   "execution_count": null,
   "metadata": {},
   "outputs": [],
   "source": [
    "# 풀이 1. 삽입 정렬\n",
    "class Solution:\n",
    "    def insertionSortList(self, head: ListNode) -> ListNode:\n",
    "        cur = parent = ListNode(None)\n",
    "        while head:\n",
    "            while cur.next and cur.next.val < head.val:\n",
    "                cur = cur.next\n",
    "                \n",
    "            cur.next, head.next, head = head, cur.next, head.next\n",
    "            \n",
    "            cur = parent\n",
    "            \n",
    "        return cur.next"
   ]
  },
  {
   "cell_type": "code",
   "execution_count": null,
   "metadata": {},
   "outputs": [],
   "source": [
    "# 풀이 2. 삽입 정렬의 비교 조건 개선\n",
    "class Solution:\n",
    "    def insertionSortList(self, head: ListNode) -> ListNode:\n",
    "        # 초깃값 변경\n",
    "        cur = parent = ListNode(0)\n",
    "        \n",
    "        while head:\n",
    "            while cur.next and cur.next.val < head.val:\n",
    "                cur = cur.next\n",
    "                \n",
    "            cur.next, head.next, head = head, cur.next, head.next\n",
    "            \n",
    "            # 필요한 경우에만 cur 포인터가 되돌아가도록 처리\n",
    "            if head and cur.val > head.val:\n",
    "                cur = parent\n",
    "                \n",
    "        return parent.next"
   ]
  },
  {
   "cell_type": "markdown",
   "metadata": {},
   "source": [
    "### 61. 가장 큰 수\n",
    "\n",
    "항목들을 조합하여 만들 수 있는 가장 큰 수를 출력하라"
   ]
  },
  {
   "cell_type": "code",
   "execution_count": null,
   "metadata": {},
   "outputs": [],
   "source": [
    "# 삽입 정렬\n",
    "class Solution:\n",
    "    # 문제에 적합한 비교함수\n",
    "    @staticmethod\n",
    "    def to_swap(n1: int, n2: int) -> bool:\n",
    "        return str(n1) + str(n2) < str(n2) + str(n1)\n",
    "    # 삽입 정렬 구현\n",
    "    def largestNumber(self, nums: List[int]) -> str:\n",
    "        i = 1\n",
    "        while i < len(nums):\n",
    "            j = i\n",
    "            while j > 0 and self.to_swap(nums[j - 1], nums[j]):\n",
    "                nums[j], nums[j -1] = nums[j -1], nums[j]\n",
    "                j -= 1\n",
    "            i += 1\n",
    "                \n",
    "        return str(int(''.join(map(str, nums))))"
   ]
  },
  {
   "cell_type": "markdown",
   "metadata": {},
   "source": [
    "### 62. 유효한 애너그램\n",
    "\n",
    "t가 s의 애너그램인지 판별하라."
   ]
  },
  {
   "cell_type": "code",
   "execution_count": 6,
   "metadata": {},
   "outputs": [
    {
     "name": "stdout",
     "output_type": "stream",
     "text": [
      "['a', 'c', 'c', 't']\n"
     ]
    }
   ],
   "source": [
    "# 풀이 1. 정렬을 이용한 풀이\n",
    "class Solution:\n",
    "    def isAnagram(self, s: str, t: str) -> bool:\n",
    "        return sorted(s) == sorted(t)\"\n",
    "s = sorted(list(s))\n",
    "print(s)"
   ]
  },
  {
   "cell_type": "markdown",
   "metadata": {},
   "source": [
    "### 63. 색 정렬"
   ]
  },
  {
   "cell_type": "code",
   "execution_count": null,
   "metadata": {},
   "outputs": [],
   "source": [
    "# 네덜란드 국기 문제를 응용한 풀이\n",
    "class Solution:\n",
    "    def sortColors(self, nums: List[int]) -> None:\n",
    "        red, white, blue = 0, 0, len(nums)\n",
    "        \n",
    "        while white < blue:\n",
    "            if nums[white] < 1:\n",
    "                nums[red], nums[white] = nums[white], nums[red]\n",
    "                white += 1\n",
    "                red += 1\n",
    "                \n",
    "            elif nums[white] > 1:\n",
    "                blue -= 1\n",
    "                nums[white], nums[blue] = nums[blue], nums[white]\n",
    "            else:\n",
    "                white += 1"
   ]
  },
  {
   "cell_type": "markdown",
   "metadata": {},
   "source": [
    "### 64. 원점에 k번째로 가까운 점\n",
    "\n",
    "평면상에 points 목록이 있을 때, 원점 (0, 0) 에서 k번 가까운 점 목록을 순서대로 출력하라. 평면상 두 점의 거리는 유클리드 거리로 한다."
   ]
  },
  {
   "cell_type": "code",
   "execution_count": null,
   "metadata": {},
   "outputs": [],
   "source": [
    "# 풀이 1. 유클리드 거리의 우선순위 큐 순서\n",
    "class Solution:\n",
    "    def kClosest(self, points: List[List[int]], K: int) -> List[List[int]]:\n",
    "        heap = []\n",
    "        for (x, y) in points:\n",
    "            dist = x ** 2 + y ** 2\n",
    "            heapq.heappush(heap, (dist, x, y))\n",
    "            \n",
    "        result = []\n",
    "        for _ in range(K):\n",
    "            (dist, x, y) = heapq.heappop(heap)\n",
    "            result.append((x, y))\n",
    "            \n",
    "        return result"
   ]
  }
 ],
 "metadata": {
  "kernelspec": {
   "display_name": "Python 3",
   "language": "python",
   "name": "python3"
  },
  "language_info": {
   "codemirror_mode": {
    "name": "ipython",
    "version": 3
   },
   "file_extension": ".py",
   "mimetype": "text/x-python",
   "name": "python",
   "nbconvert_exporter": "python",
   "pygments_lexer": "ipython3",
   "version": "3.8.5"
  }
 },
 "nbformat": 4,
 "nbformat_minor": 4
}
