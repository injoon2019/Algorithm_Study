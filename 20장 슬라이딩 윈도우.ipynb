{
 "cells": [
  {
   "cell_type": "markdown",
   "metadata": {},
   "source": [
    "### 75. 최대 슬라이딩 윈도우\n",
    "\n",
    "배열 nums가 주어졌을 때 k 크기의 슬라이딩 윈도우를 오른쪽 끝가지 이동하면서 최대 슬라이딩 윈도우를 구하라."
   ]
  },
  {
   "cell_type": "code",
   "execution_count": null,
   "metadata": {},
   "outputs": [],
   "source": [
    "# 풀이 1. 브루트 포스 계산\n",
    "class Solution:\n",
    "    def maxSlidingWindow(self, nums: List[int], k: int) -> List[int]:\n",
    "        if not nums:\n",
    "            return nums\n",
    "        \n",
    "        r = []\n",
    "        for i in range(len(nums) - k + 1):\n",
    "            r.append(max(nums[i:i+k]))\n",
    "        return r"
   ]
  },
  {
   "cell_type": "code",
   "execution_count": null,
   "metadata": {},
   "outputs": [],
   "source": [
    "# 풀이 2. 큐를 이용한 최적화\n",
    "class Solution:\n",
    "    def maxSlidingWindow(self, nums: List[int], k: int) -> List[int]:\n",
    "        results = [] \n",
    "        window = collections.deque()\n",
    "        current_max =float('-inf')\n",
    "        for i, v in enumerate(nums):\n",
    "            window.append(v)\n",
    "            if i < k - 1:\n",
    "                continue\n",
    "                \n",
    "            # 새로 추가된 값이 기존 최댓값보다 큰 경우 교체\n",
    "            if current_max == float('-inf'):\n",
    "                current_max = max(window)\n",
    "            elif v > current_max:\n",
    "                current_max = v\n",
    "                \n",
    "            results.append(current_max)\n",
    "            \n",
    "            # 최댓값이 윈도우에서 빠지면 초기화\n",
    "            if current_max == window.popleft():\n",
    "                current_max = float('-inf')\n",
    "                \n",
    "        return results"
   ]
  },
  {
   "cell_type": "markdown",
   "metadata": {},
   "source": [
    "### 76. 부분 문자열이 포함된 최소 윈도우\n",
    "\n",
    "문자열 S와 T를 입력받아 O(n)에 T의 모든 문자가 포함되는 S의 최소 윈도우를 찾아라."
   ]
  },
  {
   "cell_type": "code",
   "execution_count": null,
   "metadata": {},
   "outputs": [],
   "source": [
    "# 풀이 1. 모든 윈도우 크기를 브루트 포스로 탐색\n",
    "class Solution:\n",
    "    def minWindow(self, s: str, t: str) -> str:\n",
    "        def contains(s_substr_list, t_lst):\n",
    "            for t_elem in t_lst:\n",
    "                if t_elem in s_substr_list:\n",
    "                    s_substr_list.remove(t_elem)\n",
    "                    \n",
    "                else:\n",
    "                    return False\n",
    "            return True\n",
    "        \n",
    "        if not s or not t:\n",
    "            return ''\n",
    "        \n",
    "        window_size = len(t)\n",
    "        \n",
    "        for size in range(window_size, len(s) + 1):\n",
    "            for left in range(len(s) - size + 1):\n",
    "                s_substr = s[left: left + size]\n",
    "                if contains(list(s_substr), list(t)):\n",
    "                    return s_substr\n",
    "        return ''"
   ]
  },
  {
   "cell_type": "code",
   "execution_count": null,
   "metadata": {},
   "outputs": [],
   "source": [
    "# 풀이 2. 투포인터, 슬라이딩 윈도우로 최적화\n",
    "class Solution:\n",
    "    def minWindow(self, s: str, t: str) -> str:\n",
    "        need = collections.Counter(t)\n",
    "        missing = len(t)\n",
    "        left = start = end = 0\n",
    "        \n",
    "        # 오른쪽 포인터 이동\n",
    "        for right, char in enumerate(s, 1):\n",
    "            missing -= need[char] > 0\n",
    "            need[char] -= 1\n",
    "            \n",
    "            # 필요 문자가 0이면 왼쪽 포인터 이동 판단\n",
    "            if missing == 0:\n",
    "                while left < right and need[s[left]] < 0:\n",
    "                    need[s[left]] += 1\n",
    "                    left += 1\n",
    "                    \n",
    "                if not end or right - left <= end - start:\n",
    "                    start, end = left, right\n",
    "                    need[s[left]] += 1\n",
    "                    missing += 1\n",
    "                    left += 1\n",
    "                    \n",
    "        return s[start:end]\n",
    "                    "
   ]
  },
  {
   "cell_type": "code",
   "execution_count": null,
   "metadata": {},
   "outputs": [],
   "source": [
    "# 풀이 3. Counter로 좀 더 편리한 풀이\n",
    "class Solution:\n",
    "    def minWindow(self, s: str, t: str) -> str:\n",
    "        t_count = collections.Counter(t)\n",
    "        current_count = collections.Counter()\n",
    "        \n",
    "        start = float('-inf')\n",
    "        end = float('inf')\n",
    "        \n",
    "        left = 0\n",
    "        # 오른쪽 포인터 이동\n",
    "        for right, char in enumerate(s, 1):\n",
    "            current_count[char] += 1\n",
    "            \n",
    "            # AND 연산 결과로 왼쪽 포인터 이동 판단\n",
    "            while current_count & t_count == t_count:\n",
    "                if right - left < end - start:\n",
    "                    start, end = left, right\n",
    "                current_count[s[left]] -= 1\n",
    "                left += 1\n",
    "                \n",
    "        return s[start: end] if end - start <= len(s) else ''"
   ]
  },
  {
   "cell_type": "markdown",
   "metadata": {},
   "source": [
    "### 77. 가장 긴 반복 문자 대체\n",
    "\n",
    "대문자로 구성된 문자열 s가 주어졌을 때 k번만큼의 변경으로 만들 수 있는, 연속으로 반복된 문자열의 가장 긴 길이를 출력하라."
   ]
  },
  {
   "cell_type": "code",
   "execution_count": null,
   "metadata": {},
   "outputs": [],
   "source": [
    "# 풀이 1. 투포인터, 슬라이딩윈도우, 카운터 모두 이용\n",
    "class Solution:\n",
    "    def characterReplacement(self, s: str, k: int) -> int:\n",
    "        left = right = 0\n",
    "        counts = collections.Counter()\n",
    "        for right in range(1, len(s) + 1):\n",
    "            counts[s[right -1]] += 1\n",
    "            # 가장 흔하게 등장하는 문자 탐색\n",
    "            max_char_n = counts.most_common(1)[0][1]\n",
    "            \n",
    "            # k초과시 왼쪽 포인터 이동\n",
    "            if right - left - max_char_n > k:\n",
    "                counts[s[left]] -= 1\n",
    "                left += 1\n",
    "                \n",
    "        return right - left"
   ]
  }
 ],
 "metadata": {
  "kernelspec": {
   "display_name": "Python 3",
   "language": "python",
   "name": "python3"
  },
  "language_info": {
   "codemirror_mode": {
    "name": "ipython",
    "version": 3
   },
   "file_extension": ".py",
   "mimetype": "text/x-python",
   "name": "python",
   "nbconvert_exporter": "python",
   "pygments_lexer": "ipython3",
   "version": "3.8.5"
  }
 },
 "nbformat": 4,
 "nbformat_minor": 4
}
