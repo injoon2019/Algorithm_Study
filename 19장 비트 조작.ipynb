{
 "cells": [
  {
   "cell_type": "markdown",
   "metadata": {},
   "source": [
    "### 70. 싱글 넘버\n",
    "\n",
    "딱 하나를 제외하고 모든 엘리먼트는 2개씩 있다. 1개인 엘리먼트를 찾아라."
   ]
  },
  {
   "cell_type": "code",
   "execution_count": 27,
   "metadata": {},
   "outputs": [
    {
     "name": "stdout",
     "output_type": "stream",
     "text": [
      "1\n"
     ]
    }
   ],
   "source": [
    "nums = [2, 2, 1]\n",
    "result = 0\n",
    "for num in nums:\n",
    "    result ^= num\n",
    "    \n",
    "print(result)\n"
   ]
  },
  {
   "cell_type": "code",
   "execution_count": 28,
   "metadata": {},
   "outputs": [
    {
     "name": "stdout",
     "output_type": "stream",
     "text": [
      "0\n",
      "2\n",
      "0\n"
     ]
    }
   ],
   "source": [
    "result = 0\n",
    "print(result)\n",
    "result ^= 2\n",
    "print(result)\n",
    "result ^= 2\n",
    "print(result)"
   ]
  },
  {
   "cell_type": "code",
   "execution_count": 29,
   "metadata": {},
   "outputs": [
    {
     "ename": "NameError",
     "evalue": "name 'List' is not defined",
     "output_type": "error",
     "traceback": [
      "\u001b[0;31m---------------------------------------------------------------------------\u001b[0m",
      "\u001b[0;31mNameError\u001b[0m                                 Traceback (most recent call last)",
      "\u001b[0;32m<ipython-input-29-87cd8cce64fb>\u001b[0m in \u001b[0;36m<module>\u001b[0;34m\u001b[0m\n\u001b[1;32m      1\u001b[0m \u001b[0;31m# 풀이 1. XOR 풀이\u001b[0m\u001b[0;34m\u001b[0m\u001b[0;34m\u001b[0m\u001b[0;34m\u001b[0m\u001b[0m\n\u001b[0;32m----> 2\u001b[0;31m \u001b[0;32mclass\u001b[0m \u001b[0mSolution\u001b[0m\u001b[0;34m:\u001b[0m\u001b[0;34m\u001b[0m\u001b[0;34m\u001b[0m\u001b[0m\n\u001b[0m\u001b[1;32m      3\u001b[0m     \u001b[0;32mdef\u001b[0m \u001b[0msingleNumber\u001b[0m\u001b[0;34m(\u001b[0m\u001b[0mself\u001b[0m\u001b[0;34m,\u001b[0m \u001b[0mnums\u001b[0m\u001b[0;34m:\u001b[0m \u001b[0mList\u001b[0m\u001b[0;34m[\u001b[0m\u001b[0mint\u001b[0m\u001b[0;34m]\u001b[0m\u001b[0;34m)\u001b[0m \u001b[0;34m->\u001b[0m \u001b[0mint\u001b[0m\u001b[0;34m:\u001b[0m\u001b[0;34m\u001b[0m\u001b[0;34m\u001b[0m\u001b[0m\n\u001b[1;32m      4\u001b[0m         \u001b[0mresult\u001b[0m \u001b[0;34m=\u001b[0m \u001b[0;36m0\u001b[0m\u001b[0;34m\u001b[0m\u001b[0;34m\u001b[0m\u001b[0m\n\u001b[1;32m      5\u001b[0m         \u001b[0;32mfor\u001b[0m \u001b[0mnum\u001b[0m \u001b[0;32min\u001b[0m \u001b[0mnums\u001b[0m\u001b[0;34m:\u001b[0m\u001b[0;34m\u001b[0m\u001b[0;34m\u001b[0m\u001b[0m\n",
      "\u001b[0;32m<ipython-input-29-87cd8cce64fb>\u001b[0m in \u001b[0;36mSolution\u001b[0;34m()\u001b[0m\n\u001b[1;32m      1\u001b[0m \u001b[0;31m# 풀이 1. XOR 풀이\u001b[0m\u001b[0;34m\u001b[0m\u001b[0;34m\u001b[0m\u001b[0;34m\u001b[0m\u001b[0m\n\u001b[1;32m      2\u001b[0m \u001b[0;32mclass\u001b[0m \u001b[0mSolution\u001b[0m\u001b[0;34m:\u001b[0m\u001b[0;34m\u001b[0m\u001b[0;34m\u001b[0m\u001b[0m\n\u001b[0;32m----> 3\u001b[0;31m     \u001b[0;32mdef\u001b[0m \u001b[0msingleNumber\u001b[0m\u001b[0;34m(\u001b[0m\u001b[0mself\u001b[0m\u001b[0;34m,\u001b[0m \u001b[0mnums\u001b[0m\u001b[0;34m:\u001b[0m \u001b[0mList\u001b[0m\u001b[0;34m[\u001b[0m\u001b[0mint\u001b[0m\u001b[0;34m]\u001b[0m\u001b[0;34m)\u001b[0m \u001b[0;34m->\u001b[0m \u001b[0mint\u001b[0m\u001b[0;34m:\u001b[0m\u001b[0;34m\u001b[0m\u001b[0;34m\u001b[0m\u001b[0m\n\u001b[0m\u001b[1;32m      4\u001b[0m         \u001b[0mresult\u001b[0m \u001b[0;34m=\u001b[0m \u001b[0;36m0\u001b[0m\u001b[0;34m\u001b[0m\u001b[0;34m\u001b[0m\u001b[0m\n\u001b[1;32m      5\u001b[0m         \u001b[0;32mfor\u001b[0m \u001b[0mnum\u001b[0m \u001b[0;32min\u001b[0m \u001b[0mnums\u001b[0m\u001b[0;34m:\u001b[0m\u001b[0;34m\u001b[0m\u001b[0;34m\u001b[0m\u001b[0m\n",
      "\u001b[0;31mNameError\u001b[0m: name 'List' is not defined"
     ]
    }
   ],
   "source": [
    "# 풀이 1. XOR 풀이\n",
    "class Solution:\n",
    "    def singleNumber(self, nums: List[int]) -> int:\n",
    "        result = 0\n",
    "        for num in nums:\n",
    "            result ^= num\n",
    "        return result"
   ]
  },
  {
   "cell_type": "markdown",
   "metadata": {},
   "source": [
    "### 71. 해밍 거리\n",
    "\n",
    "두 정수를 입력받아 몇 비트가 다른지 계산하라."
   ]
  },
  {
   "cell_type": "code",
   "execution_count": null,
   "metadata": {},
   "outputs": [],
   "source": [
    "# 풀이 1. XOR 풀이\n",
    "class Solution:\n",
    "    def hammingDistance(self, x: int, y: int) -> int:\n",
    "        return bin(x ^ y).count('1')"
   ]
  },
  {
   "cell_type": "markdown",
   "metadata": {},
   "source": [
    "### 72. 두 정수의 합"
   ]
  },
  {
   "cell_type": "code",
   "execution_count": null,
   "metadata": {},
   "outputs": [],
   "source": [
    "# 풀이 1. 전가산기 구현\n",
    "class Solution:\n",
    "    def getSum(self, a: int, b: int) -> int:\n",
    "        MASK = 0xFFFFFFF\n",
    "        INT_MAX = 0x7FFFFFF\n",
    "        \n",
    "        a_bin = bin(a & MASK)[2:].zfill(32)\n",
    "        b_bin = bin(b & MASK)[2:].zfill(32)\n",
    "        \n",
    "        result = []\n",
    "        carry = 0\n",
    "        sum = 0\n",
    "        for i in range(32):\n",
    "            A = int(a_bin[31 - i])\n",
    "            B = int(b_bin[31 - i])\n",
    "            \n",
    "            # 전가산기 구현\n",
    "            \n",
    "            Q1 = A & B\n",
    "            Q2 = A ^ B\n",
    "            Q3 = Q2 & carry\n",
    "            sum = carry ^ Q2\n",
    "            carry = Q1 | Q3\n",
    "            \n",
    "            result.append(str(sum))\n",
    "        if carry == 1:\n",
    "            result.append('1')\n",
    "            \n",
    "        # 초과 자릿수 처리\n",
    "        result = int(''.join(result[::-1]), 2) & MASK\n",
    "        # 음수 처리\n",
    "        if result > INT_MAX:\n",
    "            result = ~(result ^ MASK)\n",
    "            \n",
    "        return result"
   ]
  },
  {
   "cell_type": "code",
   "execution_count": null,
   "metadata": {},
   "outputs": [],
   "source": [
    "# 풀이 2. 좀 더 간소한 구현\n",
    "class Solution:\n",
    "    def getSum(self, a: int, b: int) -> int:\n",
    "        MASK = 0xFFFFFFF\n",
    "        INT_MAX = 0x7FFFFFF\n",
    "        \n",
    "        # 합, 자릿수 처리\n",
    "        while b != 0:\n",
    "            a, b = (a ^ b) & MASK, ((a & b) << 1) & MASK\n",
    "            \n",
    "        # 음수 처리\n",
    "        if a > INT_MAX:\n",
    "            a = ~(a ^ MASK)\n",
    "            \n",
    "        return a"
   ]
  },
  {
   "cell_type": "markdown",
   "metadata": {},
   "source": [
    "### 73. UTF-8 검증"
   ]
  },
  {
   "cell_type": "code",
   "execution_count": null,
   "metadata": {},
   "outputs": [],
   "source": [
    "# 첫 바이트를 기준으로 한 판별\n",
    "class Solution:\n",
    "    def validUtf8(self, data: List[int]) -> bool:\n",
    "        # 문자 바이트 만큼 10으로 시작 판별\n",
    "        def check(size):\n",
    "            for i in range(start +1, start + size + 1):\n",
    "                if i >= len(data) or (data[i] >> 6) != 0b10:\n",
    "                    return False\n",
    "            return True\n",
    "        \n",
    "        start = 0\n",
    "        while start < len(data):\n",
    "            # 첫 바이트 기준 총 문자 바이트 판별\n",
    "            first = data[start]\n",
    "            if (first >> 3) == 0b11110 and check(3):\n",
    "                start += 4\n",
    "            elif (first >> 4) == 0b1110 and check(2):\n",
    "                start += 3\n",
    "            elif (first >> 5) == 0b110 and check(1):\n",
    "                start += 2\n",
    "            elif (first >> 7) == 0:\n",
    "                start += 1\n",
    "            else:\n",
    "                return False\n",
    "        return True"
   ]
  },
  {
   "cell_type": "markdown",
   "metadata": {},
   "source": [
    "### 74. 1비트의 개수\n",
    "\n",
    "부호없는 정수형을 입력받아 1비트의 개수를 출력하라"
   ]
  },
  {
   "cell_type": "code",
   "execution_count": null,
   "metadata": {},
   "outputs": [],
   "source": [
    "# 풀이 1. 1의 개수 개산\n",
    "class Solution:\n",
    "    def hammingWeight(self, n: int) -> int:\n",
    "        return bin(n).count('1')"
   ]
  },
  {
   "cell_type": "code",
   "execution_count": null,
   "metadata": {},
   "outputs": [],
   "source": [
    "# 풀이 2. 비트 연산\n",
    "class Solution:\n",
    "    def hammingWeight(self, n: int) -> int:\n",
    "        count = 0\n",
    "        while n:\n",
    "            #   1을 뺀 값과 AND 연산 횟수 측정\n",
    "            n &= n -1\n",
    "            count += 1\n",
    "        return count"
   ]
  }
 ],
 "metadata": {
  "kernelspec": {
   "display_name": "Python 3",
   "language": "python",
   "name": "python3"
  },
  "language_info": {
   "codemirror_mode": {
    "name": "ipython",
    "version": 3
   },
   "file_extension": ".py",
   "mimetype": "text/x-python",
   "name": "python",
   "nbconvert_exporter": "python",
   "pygments_lexer": "ipython3",
   "version": "3.8.5"
  }
 },
 "nbformat": 4,
 "nbformat_minor": 4
}
