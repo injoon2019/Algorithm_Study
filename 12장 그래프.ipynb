{
 "cells": [
  {
   "cell_type": "markdown",
   "metadata": {},
   "source": [
    "# 12장 그래프"
   ]
  },
  {
   "cell_type": "markdown",
   "metadata": {},
   "source": [
    "### 32. 섬의 개수\n",
    "\n",
    "1을 육지로, 0을 물로 가정한 2D 그리드 맵이 주어졌을떄, 섬의 개수를 계산하여라."
   ]
  },
  {
   "cell_type": "code",
   "execution_count": null,
   "metadata": {},
   "outputs": [],
   "source": [
    "# 풀이 1. DFS로 풀이하기 (재귀)\n",
    "class Solution:\n",
    "    def dfs(self, grid, i, j):\n",
    "        # 더 이상 땅이 아닌 경우 종료\n",
    "        if i < 0 or i >= len(grid) or j < 0 or j >= len(grid[0]) or grid[i][j] != '1':\n",
    "            return\n",
    "        \n",
    "        # 한번 탐색한 육지는 0으로 만들어 가지치기\n",
    "        grid[i][j] = '0'\n",
    "        \n",
    "        # 동서남북 탐색\n",
    "        self.dfs(grid, i+1, j)\n",
    "        self.dfs(grid, i-1, j)\n",
    "        self.dfs(grid, i, j+1)\n",
    "        self.dfs(grid, i, j-1)\n",
    "    \n",
    "    def numIslands(self, grid: List[List[str]]) -> int:\n",
    "        # 예외 처리\n",
    "        if not grid:\n",
    "            return 0\n",
    "        \n",
    "        count = 0\n",
    "        \n",
    "        for i in range(len(grid)):\n",
    "            for j in range(len(grid[0])):\n",
    "                if grid[i][j] == '1':\n",
    "                    self.dfs(grid, i, j)\n",
    "                    # 모든 육지 탐색 후 카운트 1 증가\n",
    "                    count += 1\n",
    "                    \n",
    "        return count"
   ]
  },
  {
   "cell_type": "markdown",
   "metadata": {},
   "source": [
    "### 33. 전화번호 문자 조합\n",
    "\n",
    "2에서 9까지 숫자가 주어졌을 때 전화 번호로 조합 가능한 모든 문자를 출력하라"
   ]
  },
  {
   "cell_type": "code",
   "execution_count": null,
   "metadata": {},
   "outputs": [],
   "source": [
    "# 풀이 1. 모든 조합 탐색\n",
    "class Solution:\n",
    "    def letterCombinations(self, digits: str) -> List[str]:\n",
    "        \n",
    "        def dfs(index, path):\n",
    "            # 끝가지 탐색하면 백트래킹\n",
    "            if len(path) == len(digits):\n",
    "                result.append(path)\n",
    "                return\n",
    "            \n",
    "            # 입력값 자릿수 단위 반복\n",
    "            for i in range(index, len(digits)):\n",
    "                # 숫자에 해당하는 모든 문자열 반복\n",
    "                for j in dic[digits[i]]:\n",
    "                    dfs(i + 1, path + j)\n",
    "                    \n",
    "                    \n",
    "        # 예외 처리\n",
    "        if not digits:\n",
    "            return []\n",
    "        \n",
    "        dic = {\"2\" : \"abc\", \"3\" : \"def\", \"4\" : \"ghi\", \"5\" : \"jkl\", \"6\" : \"mno\", \"7\" : \"pqrs\", \"8\" : \"tuv\", \"9\" : \"wxyz\"}\n",
    "        result = []\n",
    "        dfs(0, \"\")\n",
    "        \n",
    "        return result\n",
    "        "
   ]
  },
  {
   "cell_type": "markdown",
   "metadata": {},
   "source": [
    "### 34. 순열\n",
    "\n",
    "서로 다른 정수를 입력받아 가능한 모든 순열을 리턴하라."
   ]
  },
  {
   "cell_type": "code",
   "execution_count": null,
   "metadata": {},
   "outputs": [],
   "source": [
    "# 풀이 1. DFS를 활용한 순열 생성\n",
    "\n",
    "class Solution:\n",
    "    def permute(self, nums: List[int]) -> List[List[int]]:\n",
    "        results = []\n",
    "        prev_elements = []\n",
    "        \n",
    "        def dfs(elements):\n",
    "            # 리프 노드일 때 결과 추가\n",
    "            if len(elements) == 0:\n",
    "                results.append(prev_elements[:])\n",
    "                \n",
    "            # 순열 생성 재귀 호출\n",
    "            for e in elements:\n",
    "                next_elements = elements[:]\n",
    "                next_elements.remove(e)\n",
    "                \n",
    "                prev_elements.append(e)\n",
    "                dfs(next_elements)\n",
    "                prev_elements.pop()\n",
    "                \n",
    "        dfs(nums)\n",
    "        return results"
   ]
  },
  {
   "cell_type": "code",
   "execution_count": null,
   "metadata": {},
   "outputs": [],
   "source": [
    "# 풀이 2. itertools 모듈 사용\n",
    "\n",
    "class Solution:\n",
    "    def permute(self, nums: List[int]) -> List[List[int]]:\n",
    "        return list(itertools.permutations(nums))"
   ]
  },
  {
   "cell_type": "markdown",
   "metadata": {},
   "source": [
    "### 35. 조합\n",
    "\n",
    "전체 수 n 을 받아 k 개의 조합을 만들어라"
   ]
  },
  {
   "cell_type": "code",
   "execution_count": null,
   "metadata": {},
   "outputs": [],
   "source": [
    "# 풀이 1. DFS로 k개 조합 생성\n",
    "class Solution:\n",
    "    def combine(self, n: int, k: int) -> List[List[int]]:\n",
    "        result = []\n",
    "        \n",
    "        def dfs(elements, start: int, k: int):\n",
    "            if k == 0:\n",
    "                result.append(elements[:])\n",
    "                \n",
    "            # 자신 이전의 모든 값을 고정하여 재귀호출\n",
    "            for i in range(start, n + 1):\n",
    "                elements.append(i)\n",
    "                dfs(elements, i+1, k-1)\n",
    "                elements.pop()\n",
    "        \n",
    "        dfs([], 1, k)\n",
    "        return result"
   ]
  },
  {
   "cell_type": "code",
   "execution_count": null,
   "metadata": {},
   "outputs": [],
   "source": [
    "# 풀이 2. itertools 모듈 사용\n"
   ]
  },
  {
   "cell_type": "markdown",
   "metadata": {},
   "source": [
    "### 36. 조합의 합\n",
    "\n",
    "숫자 집합 candidates를 조합하여 합이 target이 되는 원소를 나열하라. 각 원소는 중복으로 나열이 가능하다"
   ]
  },
  {
   "cell_type": "code",
   "execution_count": null,
   "metadata": {},
   "outputs": [],
   "source": [
    "# 풀이 1. DFS로 중복 조합 그래프 탐색\n",
    "class Solution:\n",
    "    def combinationSum(self, candidates: List[int], target: int) -> List[List[int]]:\n",
    "        result = []\n",
    "        \n",
    "        def dfs(csum, index, path):\n",
    "            # 종료 조건\n",
    "            if csum < 0:\n",
    "                return\n",
    "            if csum == 0:\n",
    "                result.append(path)\n",
    "                return\n",
    "            \n",
    "            # 자신부터 하위 원소 까지의 나열 재귀 호출\n",
    "            for i in range(index, len(candidates)):\n",
    "                dfs(csum - candidates[i], i, path + [candidates[i]])\n",
    "        \n",
    "        dfs(target, 0, [])\n",
    "        return result"
   ]
  },
  {
   "cell_type": "markdown",
   "metadata": {},
   "source": [
    "### 37. 부분집합"
   ]
  },
  {
   "cell_type": "code",
   "execution_count": null,
   "metadata": {},
   "outputs": [],
   "source": [
    "# 풀이 1. 트리의 모든 DFS 결과\n",
    "class Solution:\n",
    "    def subsets(self, nums: List[int]) -> List[List[int]]:\n",
    "        result = []\n",
    "        \n",
    "        def dfs(index, path):\n",
    "            #  매번 결과 추가\n",
    "            result.append(path)\n",
    "            # 경로를 만들면서 DFS\n",
    "            for i in range(index, len(nums)):\n",
    "                dfs(i+1, path + [nums[i]])\n",
    "                \n",
    "        dfs(0, [])\n",
    "        return result"
   ]
  },
  {
   "cell_type": "markdown",
   "metadata": {},
   "source": [
    "### 38. 일정 재구성\n",
    "[from, to] 로 구성된 항공권 목록을 이용해 JFK에서 출발하는 여행 일정을 구성하라. 여러 일정이 있는 경우 사전 어휘순으로 방문한다"
   ]
  },
  {
   "cell_type": "code",
   "execution_count": null,
   "metadata": {},
   "outputs": [],
   "source": [
    "# 풀이 1. DFS로 일정 그래프 구성\n",
    "class Solution:\n",
    "    def findItinerary(self, tickets: List[List[str]]) -> List[str]:\n",
    "        graph = collections.defaultdict(list)\n",
    "#         for a, b in tickets:\n",
    "#             graph[a].append(b)\n",
    "#         for a, b in graph:\n",
    "#             graph[a].sort()\n",
    "        \n",
    "        # 그래프 순서대로 구성\n",
    "        for a, b in sorted(tickets):\n",
    "            graph[a].append(b)\n",
    "            \n",
    "        route = []\n",
    "        def dfs(a):\n",
    "            # 첫 번째 값을 읽어 어휘 순 방문\n",
    "            while graph[a]:\n",
    "                dfs(graph[a].pop(0))\n",
    "            route.append(a)\n",
    "        \n",
    "        dfs('JFK')\n",
    "        # 다시 뒤집어 어휘 순 결과로\n",
    "        return route[::-1]\n",
    "        "
   ]
  },
  {
   "cell_type": "code",
   "execution_count": null,
   "metadata": {},
   "outputs": [],
   "source": [
    "# 풀이 2. 스택 연산으로 큐 연산 최적화 시도\n",
    "class Solution:\n",
    "    def findItinerary(self, tickets: List[List[str]]) -> List[str]:\n",
    "        graph = collections.defaultdict(list)\n",
    "#         for a, b in tickets:\n",
    "#             graph[a].append(b)\n",
    "#         for a, b in graph:\n",
    "#             graph[a].sort()\n",
    "        \n",
    "        # 그래프 뒤집어서 구성\n",
    "        for a, b in sorted(tickets, reverse=True):\n",
    "            graph[a].append(b)\n",
    "            \n",
    "        route = []\n",
    "        def dfs(a):\n",
    "            # 첫 번째 값을 읽어 어휘 순 방문\n",
    "            while graph[a]:\n",
    "                dfs(graph[a].pop())\n",
    "            route.append(a)\n",
    "        \n",
    "        dfs('JFK')\n",
    "        # 다시 뒤집어 어휘 순 결과로\n",
    "        return route[::-1]\n",
    "        "
   ]
  },
  {
   "cell_type": "code",
   "execution_count": null,
   "metadata": {},
   "outputs": [],
   "source": [
    "# 풀이 3. 일정 그래프 반복\n",
    "class Solution:\n",
    "    def findItinerary(self, tickets: List[List[str]]) -> List[str]:\n",
    "        graph = collections.defaultdict(list)\n",
    "\n",
    "        # 그래프 뒤집어서 구성\n",
    "        for a, b in sorted(tickets):\n",
    "            graph[a].append(b)\n",
    "            \n",
    "        route, stack = [], ['JFK']\n",
    "        while stack:\n",
    "            # 반복으로 스택을 구성하되 막히는 부분에서 풀어내는 처리\n",
    "            while graph[stack[-1]]:\n",
    "                stack.append(graph[stack[-1]].pop(0))\n",
    "            route.append(stack.pop())\n",
    "        \n",
    "        \n",
    "        # 다시 뒤집어 어휘 순 결과로\n",
    "        return route[::-1]\n",
    "        "
   ]
  },
  {
   "cell_type": "markdown",
   "metadata": {},
   "source": [
    "### 39. 코스 스케줄"
   ]
  },
  {
   "cell_type": "code",
   "execution_count": null,
   "metadata": {},
   "outputs": [],
   "source": [
    "# 풀이 1. DFS로 순환 구조 판별\n",
    "class Solution:\n",
    "    def canFinish(self, numCourses: int, prerequisites: List[List[int]]) -> bool:\n",
    "        graph = collections.defaultdict(list)\n",
    "        for x, y in prerequisites:\n",
    "            graph[x].append(y)\n",
    "        \n",
    "        traced = set()\n",
    "        \n",
    "        def dfs(i):\n",
    "            # 순환 구조이면 False\n",
    "            if i in traced:\n",
    "                return False\n",
    "            traced.add(i)\n",
    "            for y in graph[i]:\n",
    "                if not dfs(y):\n",
    "                    return False\n",
    "            # 탐색 종료 후 순환 노드 삭제\n",
    "            traced.remove(i)\n",
    "            \n",
    "            return True\n",
    "        \n",
    "            \n",
    "        \n",
    "        # 순환 구조 판별\n",
    "        for x in list(graph):\n",
    "            if not dfs(x):\n",
    "                return False\n",
    "            \n",
    "            \n",
    "        return True"
   ]
  },
  {
   "cell_type": "code",
   "execution_count": null,
   "metadata": {},
   "outputs": [],
   "source": [
    "# 풀이 2. 가지치기를 이용한 최적화\n",
    "class Solution:\n",
    "    def canFinish(self, numCourses: int, prerequisites: List[List[int]]) -> bool:\n",
    "        graph = collections.defaultdict(list)\n",
    "        \n",
    "        # 그래프 구성\n",
    "        for x, y in prerequisites:\n",
    "            graph[x].append(y)\n",
    "            \n",
    "        traced = set()\n",
    "        visited = set()\n",
    "        \n",
    "        def dfs(i):\n",
    "            # 순환 구조이면 False\n",
    "            if i in traced:\n",
    "                return False\n",
    "            # 이미 방문했던 노드이면 False\n",
    "            if i in visited:\n",
    "                return False\n",
    "            \n",
    "            traced.add(i)\n",
    "            for y in graph[i]:\n",
    "                if not dfs(y):\n",
    "                    return False\n",
    "            # 탐색 종료 후 순환 노드 삭제\n",
    "            traced.remove(i)\n",
    "            # 탐색 종료 후 방문 노드 추가\n",
    "            visited.add(i)\n",
    "            \n",
    "            return True\n",
    "        \n",
    "        # 순환 구조 판별\n",
    "        for x in list(graph):\n",
    "            if not dfs(x):\n",
    "                return False\n",
    "            \n",
    "            \n",
    "        return True"
   ]
  }
 ],
 "metadata": {
  "kernelspec": {
   "display_name": "Python 3",
   "language": "python",
   "name": "python3"
  },
  "language_info": {
   "codemirror_mode": {
    "name": "ipython",
    "version": 3
   },
   "file_extension": ".py",
   "mimetype": "text/x-python",
   "name": "python",
   "nbconvert_exporter": "python",
   "pygments_lexer": "ipython3",
   "version": "3.8.5"
  }
 },
 "nbformat": 4,
 "nbformat_minor": 4
}
