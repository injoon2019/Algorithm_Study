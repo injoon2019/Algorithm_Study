{
 "cells": [
  {
   "cell_type": "markdown",
   "metadata": {},
   "source": [
    "# 9장 스택, 큐"
   ]
  },
  {
   "cell_type": "markdown",
   "metadata": {},
   "source": [
    "### 20. 유효한 괄호\n",
    "\n",
    "괄호로 된 입력값이 올바른지 판별하라"
   ]
  },
  {
   "cell_type": "code",
   "execution_count": 1,
   "metadata": {},
   "outputs": [],
   "source": [
    "# 입력\n",
    "s = \"()[]{}\""
   ]
  },
  {
   "cell_type": "code",
   "execution_count": 6,
   "metadata": {},
   "outputs": [
    {
     "name": "stdout",
     "output_type": "stream",
     "text": [
      "True\n"
     ]
    }
   ],
   "source": [
    "def isValid(s):\n",
    "    stack = []\n",
    "    dic = {\n",
    "        ')' : '(',\n",
    "        ']' : '[',\n",
    "        '}' : '{'\n",
    "    }\n",
    "    \n",
    "    for i in s:\n",
    "        if i not in dic: # 닫는 괄호가 아닌 경우 스택에 추가\n",
    "            stack.append(i)\n",
    "        \n",
    "        elif not stack or dic[i] != stack.pop():\n",
    "            return False\n",
    "        \n",
    "    return len(stack) == 0\n",
    "    \n",
    "print(isValid(s))"
   ]
  },
  {
   "cell_type": "markdown",
   "metadata": {},
   "source": [
    "### 21. 중복 문자 제거\n",
    "\n",
    "중복된 문자를 제외하고 사전식 순서로 나열하라"
   ]
  },
  {
   "cell_type": "code",
   "execution_count": 1,
   "metadata": {},
   "outputs": [
    {
     "name": "stdout",
     "output_type": "stream",
     "text": [
      "abc\n",
      "acdb\n"
     ]
    }
   ],
   "source": [
    "# 입력\n",
    "s = \"bcabc\"\n",
    "\n",
    "# 출력\n",
    "print(\"abc\")\n",
    "\n",
    "# 입력\n",
    "s = \"cbacdcbc\"\n",
    "\n",
    "# 출력\n",
    "print(\"acdb\")"
   ]
  },
  {
   "cell_type": "code",
   "execution_count": 15,
   "metadata": {},
   "outputs": [],
   "source": [
    "s = \"bcabc\"\n"
   ]
  },
  {
   "cell_type": "code",
   "execution_count": 18,
   "metadata": {},
   "outputs": [
    {
     "name": "stdout",
     "output_type": "stream",
     "text": [
      "['a', 'b', 'c', 'd']\n"
     ]
    }
   ],
   "source": [
    "s = \"cbacdcbc\"\n",
    "print(sorted(set(s)))"
   ]
  },
  {
   "cell_type": "code",
   "execution_count": 16,
   "metadata": {},
   "outputs": [
    {
     "name": "stdout",
     "output_type": "stream",
     "text": [
      "{'a', 'c', 'b'}\n"
     ]
    }
   ],
   "source": [
    "print(set(s))"
   ]
  },
  {
   "cell_type": "code",
   "execution_count": 11,
   "metadata": {},
   "outputs": [
    {
     "data": {
      "text/plain": [
       "'cbacdcbc'"
      ]
     },
     "execution_count": 11,
     "metadata": {},
     "output_type": "execute_result"
    }
   ],
   "source": [
    "s[s.index('c'):]"
   ]
  },
  {
   "cell_type": "code",
   "execution_count": 17,
   "metadata": {},
   "outputs": [
    {
     "name": "stdout",
     "output_type": "stream",
     "text": [
      "{'o', 'h', 'l', 'e'}\n"
     ]
    }
   ],
   "source": [
    "print(set(\"hello\"))"
   ]
  },
  {
   "cell_type": "code",
   "execution_count": 19,
   "metadata": {},
   "outputs": [
    {
     "name": "stdout",
     "output_type": "stream",
     "text": [
      "{'a', 'c', 'd', 'b'}\n"
     ]
    }
   ],
   "source": [
    "s = \"cbacdcbc\"\n",
    "print(set(s))"
   ]
  },
  {
   "cell_type": "code",
   "execution_count": null,
   "metadata": {},
   "outputs": [],
   "source": []
  },
  {
   "cell_type": "code",
   "execution_count": 25,
   "metadata": {},
   "outputs": [
    {
     "name": "stdout",
     "output_type": "stream",
     "text": [
      "abc\n"
     ]
    }
   ],
   "source": [
    "# 문제를 잘못 이해한 케이스\n",
    "s = sorted(s)\n",
    "        \n",
    "stack = []\n",
    "        \n",
    "for i in s:\n",
    "    if i not in stack:\n",
    "        stack.append(i)\n",
    "print(\"\".join(stack) )"
   ]
  },
  {
   "cell_type": "code",
   "execution_count": 10,
   "metadata": {},
   "outputs": [
    {
     "data": {
      "text/plain": [
       "'acdb'"
      ]
     },
     "execution_count": 10,
     "metadata": {},
     "output_type": "execute_result"
    }
   ],
   "source": [
    "def removeDuplicateLetters(s):\n",
    "    for char in sorted(set(s)):\n",
    "        suffix = s[s.index(char):]\n",
    "        # 전체 집합과 접미사 집합이 일치할 때 분리 진행\n",
    "        if set(s) == set(suffix):\n",
    "            return char + removeDuplicateLetters(suffix.replace(char, ''))\n",
    "    return ''\n",
    "\n",
    "removeDuplicateLetters(s)"
   ]
  },
  {
   "cell_type": "code",
   "execution_count": 7,
   "metadata": {},
   "outputs": [],
   "source": [
    "import collections\n",
    "def removeDuplicateLetters(s):\n",
    "    counter, seen, stack = collections.Counter(s), set(), []\n",
    "        \n",
    "    for char in s:\n",
    "        counter[char] -=1\n",
    "        if char in seen:\n",
    "            continue\n",
    "            \n",
    "        # 뒤에 붙일 문자가 남아 있다면 스택에서 제거\n",
    "        while stack and char < stack[-1] and counter[stack[-1]] > 0:\n",
    "            seen.remove(stack.pop)\n",
    "            \n",
    "        stack.append(char)\n",
    "        seen.add(char)\n",
    "            \n",
    "        return ''.join(stack)"
   ]
  },
  {
   "cell_type": "code",
   "execution_count": 42,
   "metadata": {},
   "outputs": [
    {
     "name": "stdout",
     "output_type": "stream",
     "text": [
      "c\n"
     ]
    }
   ],
   "source": [
    "print(removeDuplicateLetters(s))"
   ]
  },
  {
   "cell_type": "markdown",
   "metadata": {},
   "source": [
    "### 22. 일일 온도\n",
    "\n",
    "매일의 화씨 온도 리스트 T를 입력받아서, 더 따듯한 날씨를 위해서는 며칠을 더 기다려야 하는지 출력하라"
   ]
  },
  {
   "cell_type": "code",
   "execution_count": 43,
   "metadata": {},
   "outputs": [],
   "source": [
    "# 입력 \n",
    "T = [73, 74, 75, 71, 69, 72, 76, 73]\n",
    "\n",
    "# 출력\n",
    "result = [1, 1, 4, 2, 1, 0, 0]"
   ]
  },
  {
   "cell_type": "code",
   "execution_count": 48,
   "metadata": {},
   "outputs": [
    {
     "name": "stdout",
     "output_type": "stream",
     "text": [
      "0\n",
      "1\n",
      "2\n",
      "3\n",
      "4\n",
      "5\n",
      "6\n",
      "7\n"
     ]
    }
   ],
   "source": [
    "for i in range(len(T)):\n",
    "    print(i)"
   ]
  },
  {
   "cell_type": "code",
   "execution_count": null,
   "metadata": {},
   "outputs": [],
   "source": [
    "# 안보고 풀기\n",
    "class Solution:\n",
    "    def dailyTemperatures(self, T: List[int]) -> List[int]:\n",
    "        day = len(T)\n",
    "        result = [0] * day\n",
    "        stack = []\n",
    "        \n",
    "        for i in range(day):\n",
    "            \n",
    "            while stack and T[stack[-1]] < T[i]:\n",
    "                stack_pop = stack.pop()\n",
    "                result[stack_pop] = i - stack_pop\n",
    "            \n",
    "            stack.append(i)\n",
    "        \n",
    "        return result"
   ]
  },
  {
   "cell_type": "markdown",
   "metadata": {},
   "source": [
    "### 23. 큐를 이용한 스택 구현\n",
    "\n",
    "큐를 이용해 다음 연산을 지원하는 스택을 구현하라"
   ]
  },
  {
   "cell_type": "code",
   "execution_count": null,
   "metadata": {},
   "outputs": [],
   "source": [
    "import collections\n",
    "\n",
    "class MyStack:\n",
    "\n",
    "    def __init__(self):\n",
    "        self.q = collections.deque()\n",
    "        \n",
    "\n",
    "    def push(self, x: int) -> None:\n",
    "        self.q.append(x)\n",
    "        # 요소 삽입 후 맨 앞에 두는 상태로 재정렬\n",
    "        for _ in range(len(self.q) - 1):\n",
    "            self.q.append(self.q.popleft())\n",
    "\n",
    "\n",
    "    def pop(self) -> int:\n",
    "        return self.q.popleft()\n",
    "\n",
    "    def top(self) -> int:\n",
    "        return self.q[0]\n",
    "\n",
    "    def empty(self) -> bool:\n",
    "        return len(self.q) == 0\n"
   ]
  },
  {
   "cell_type": "markdown",
   "metadata": {},
   "source": [
    "### 스택을 이용한 큐 구현\n",
    "\n",
    "push(x) 요소 x를 큐 마지막에 삽입한다.   \n",
    "pop() 큐 처음에 있는 요소를 제거한다.  \n",
    "peek() 큐 처음에 있는 요소를 조회한다  \n",
    "empty() 큐가 비어 있는지 여부를 리턴한다"
   ]
  },
  {
   "cell_type": "code",
   "execution_count": null,
   "metadata": {},
   "outputs": [],
   "source": [
    "class MyQueue:\n",
    "\n",
    "    def __init__(self):\n",
    "        self.q = []\n",
    "\n",
    "    def push(self, x: int) -> None:\n",
    "        self.q.append(x)\n",
    "        \n",
    "\n",
    "    def pop(self) -> int:\n",
    "        return self.q.pop(0)\n",
    "\n",
    "    def peek(self) -> int:\n",
    "        return self.q[0]\n",
    "\n",
    "    def empty(self) -> bool:\n",
    "        return len(self.q) == 0"
   ]
  },
  {
   "cell_type": "code",
   "execution_count": null,
   "metadata": {},
   "outputs": [],
   "source": [
    "# 풀이 1. 스택 2개 사용\n",
    "class MyQueue:\n",
    "\n",
    "    def __init__(self):\n",
    "        self.input = []\n",
    "        self.output = []\n",
    "\n",
    "    def push(self, x: int) -> None:\n",
    "        self.input.append(x)\n",
    "        \n",
    "\n",
    "    def pop(self) -> int:\n",
    "        self.peek()\n",
    "        return self.output.pop()\n",
    "\n",
    "    def peek(self) -> int:\n",
    "        # output이 없으면 모두 재입력\n",
    "        if not self.ouput:\n",
    "            while self.input:\n",
    "                self.output.append(self.input.pop())\n",
    "        return self.ouput[-1]\n",
    "\n",
    "    def empty(self) -> bool:\n",
    "        return self.input == [] and self.ouput == []"
   ]
  },
  {
   "cell_type": "markdown",
   "metadata": {},
   "source": [
    "### 25. 원형 큐 디자인\n",
    "\n",
    "\n",
    "enQueue(x)  x를 큐 안에 삽입  \n",
    "Rear() 마지막 x를 리턴  \n",
    "isFull() 큐가 다 찼는지 확인 bool  \n",
    "deQueue() 마지막 큐 삭제  \n",
    "Frount() 첫번째 큐 리턴  "
   ]
  },
  {
   "cell_type": "code",
   "execution_count": null,
   "metadata": {},
   "outputs": [],
   "source": []
  }
 ],
 "metadata": {
  "kernelspec": {
   "display_name": "Python 3",
   "language": "python",
   "name": "python3"
  },
  "language_info": {
   "codemirror_mode": {
    "name": "ipython",
    "version": 3
   },
   "file_extension": ".py",
   "mimetype": "text/x-python",
   "name": "python",
   "nbconvert_exporter": "python",
   "pygments_lexer": "ipython3",
   "version": "3.8.5"
  }
 },
 "nbformat": 4,
 "nbformat_minor": 4
}
