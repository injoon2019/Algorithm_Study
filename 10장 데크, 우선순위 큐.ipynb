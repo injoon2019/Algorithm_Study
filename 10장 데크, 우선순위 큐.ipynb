{
 "cells": [
  {
   "cell_type": "markdown",
   "metadata": {},
   "source": [
    "# 10장 데크, 우선순위 큐"
   ]
  },
  {
   "cell_type": "markdown",
   "metadata": {},
   "source": [
    "### Deque는 Double-Ended Queue의 줄임말  \n",
    "\n",
    "양쪽 끝을 모두 추출할 수 있는 큐를 일반화한 형태의 추상 자료형(ADT)이다.  \n",
    "데크의 구현은 이중 연결 이스트로 구현하는 편이 가장 잘 어울린다.\n"
   ]
  },
  {
   "cell_type": "markdown",
   "metadata": {},
   "source": [
    "### 26. 원형 데크 디자인  \n",
    "\n",
    "다음 연산을 제공하는 원형 데크를 디자인하라.\n",
    "..."
   ]
  },
  {
   "cell_type": "code",
   "execution_count": null,
   "metadata": {},
   "outputs": [],
   "source": [
    "# 풀이 1. 이중 연결 리스트를 이용한 데크 구현\n",
    "\n",
    "class MyCircularDeque:\n",
    "\n",
    "    def __init__(self, k: int):\n",
    "        self.head, self.tail = ListNode(None), ListNode(None)\n",
    "        self.k, self.len = k, 0\n",
    "        self.head.right, self.tail.left = self.tail, self.head\n",
    "    \n",
    "    \n",
    "    # 이중 연결 리스트에 신규 노드 삽입\n",
    "    def _add(self, node: ListNode, new: ListNode):\n",
    "        n = node.right\n",
    "        node.right = new\n",
    "        new.left, new.right = node, n\n",
    "        n.left = new\n",
    "    \n",
    "    \n",
    "    def _del(self, node: ListNode):\n",
    "        n = node.right.right\n",
    "        node.right = n\n",
    "        n.left = node\n",
    "    \n",
    "    \n",
    "    def insertFront(self, value: int) -> bool:\n",
    "        if self.len == self.k:\n",
    "            return False\n",
    "        self.len += 1\n",
    "        self._add(self.head, ListNode(value))\n",
    "        return True\n",
    "\n",
    "    \n",
    "    def insertLast(self, value: int) -> bool:\n",
    "        if self.len == self.k:\n",
    "            return False\n",
    "        self.len += 1\n",
    "        self._add(self.tail.left, ListNode(value))\n",
    "        return True\n",
    "\n",
    "    \n",
    "    def deleteFront(self) -> bool:\n",
    "        if self.len == 0:\n",
    "            return False\n",
    "        self.len -= 1\n",
    "        self._del(self.head)\n",
    "        return True\n",
    "        \n",
    "\n",
    "    def deleteLast(self) -> bool:\n",
    "        if self.len == 0:\n",
    "            return False\n",
    "        self.len -= 1\n",
    "        self._del(self.tail.left.left)\n",
    "        return True\n",
    "        \n",
    "\n",
    "    def getFront(self) -> int:\n",
    "        return self.head.right.val if self.len else -1\n",
    "        \n",
    "\n",
    "    def getRear(self) -> int:\n",
    "        return self.tail.left.val if self.len else -1\n",
    "        \n",
    "\n",
    "    def isEmpty(self) -> bool:\n",
    "        return self.len == 0\n",
    "        \n",
    "\n",
    "    def isFull(self) -> bool:\n",
    "        return self.len == self.k"
   ]
  },
  {
   "cell_type": "markdown",
   "metadata": {},
   "source": [
    "### k개 정렬 리스트 병합  \n",
    "\n",
    "k개의 정렬된 리스트를 1개의 정렬된 리스트로 병합하라"
   ]
  },
  {
   "cell_type": "code",
   "execution_count": null,
   "metadata": {},
   "outputs": [],
   "source": [
    "# 풀이 1. 우선순위 큐를 이용한 리스트 병합\n",
    "\n",
    "class Solution:\n",
    "    def mergeKLists(self, lists: List[ListNode]) -> ListNode:\n",
    "        root = result = ListNode(None)\n",
    "        heap = []\n",
    "        \n",
    "        # 각 연결 리스트의 루트를 힙에 저장\n",
    "        for i in range(len(lists)):\n",
    "            if lists[i]:\n",
    "                heapq.heappush(heap, (lists[i].val, i, lists[i]))\n",
    "                \n",
    "        # 힙 추출 이후 다음 노드는 다시 저장\n",
    "        while heap:\n",
    "            node = heapq.heappop(heap)\n",
    "            idx = node[1]\n",
    "            result.next = node[2]\n",
    "            \n",
    "            result = result.next\n",
    "            if result.next:\n",
    "                heapq.heappush(heap, (result.next.val, idx, result.next))\n",
    "                \n",
    "        return root.next"
   ]
  }
 ],
 "metadata": {
  "kernelspec": {
   "display_name": "Python 3",
   "language": "python",
   "name": "python3"
  },
  "language_info": {
   "codemirror_mode": {
    "name": "ipython",
    "version": 3
   },
   "file_extension": ".py",
   "mimetype": "text/x-python",
   "name": "python",
   "nbconvert_exporter": "python",
   "pygments_lexer": "ipython3",
   "version": "3.8.5"
  }
 },
 "nbformat": 4,
 "nbformat_minor": 4
}
