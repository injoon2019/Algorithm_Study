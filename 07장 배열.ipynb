{
 "cells": [
  {
   "cell_type": "markdown",
   "metadata": {},
   "source": [
    "# 7장 배열"
   ]
  },
  {
   "cell_type": "markdown",
   "metadata": {},
   "source": [
    "### 7. 두 수의 합\n",
    "리트코드 1. Two Sum\n",
    "\n",
    "덧셈하여 타겟을 만들 수 있는 배열의 두 숫자 인덱스를 리턴하라"
   ]
  },
  {
   "cell_type": "code",
   "execution_count": 8,
   "metadata": {},
   "outputs": [],
   "source": [
    "# 입력\n",
    "nums = [7, 2, 10, 14]\n",
    "target = 9"
   ]
  },
  {
   "cell_type": "code",
   "execution_count": 2,
   "metadata": {},
   "outputs": [
    {
     "name": "stdout",
     "output_type": "stream",
     "text": [
      "[0, 1]\n"
     ]
    }
   ],
   "source": [
    "# 풀이 1 브루트 포스(무차별 대입방식)\n",
    "def TwoSum(nums, target):\n",
    "    for i in range(0, len(nums)):\n",
    "        for j in range(i+1, len(nums)):\n",
    "            if nums[i] + nums[j] == target:\n",
    "                return [i, j]\n",
    "            \n",
    "print(TwoSum(nums, target))"
   ]
  },
  {
   "cell_type": "code",
   "execution_count": 5,
   "metadata": {},
   "outputs": [
    {
     "name": "stdout",
     "output_type": "stream",
     "text": [
      "(0, 1)\n"
     ]
    }
   ],
   "source": [
    "# 풀이 2 in을 이용한 탐색\n",
    "\n",
    "def TwoSum(nums, target):\n",
    "    for i, n in enumerate(nums):\n",
    "        complement = target - n\n",
    "        \n",
    "        if complement in nums[i + 1:]:\n",
    "            return nums.index(n), nums[i+1:].index(complement) + (i + 1)\n",
    "\n",
    "print(TwoSum(nums, target))"
   ]
  },
  {
   "cell_type": "code",
   "execution_count": 10,
   "metadata": {},
   "outputs": [
    {
     "name": "stdout",
     "output_type": "stream",
     "text": [
      "(0, 1)\n"
     ]
    }
   ],
   "source": [
    "# 풀이 3 첫번째 수를 뺸 결과 키 조회\n",
    "def TwoSum(nums, target):\n",
    "    nums_map = {}\n",
    "    #키와 값을 바꿔 미리 딕셔너리에 저장\n",
    "    for i, num in enumerate(nums):\n",
    "        nums_map[num] = i\n",
    "        \n",
    "    #타겟에서 첫 번째 수를 뺀 결과를 키로 조회\n",
    "    for i, num in enumerate(nums):\n",
    "        if target - num in nums_map and i != nums_map[target - num]: # 결과로 (1, 1) 같은 값이 나오지 않기 위해 i != nums_map[...] 사용\n",
    "            return nums.index(num), nums_map[target - num]\n",
    "\n",
    "print(TwoSum(nums, target))"
   ]
  },
  {
   "cell_type": "markdown",
   "metadata": {},
   "source": [
    "### 8. 빗물 트래핑\n",
    "리트코드 : 42. Trapping Rain Water  \n",
    "\n",
    "높이를 입력받아 비 온 후 얼마나 많은 물이 쌓일 수 있는지 계산하라."
   ]
  },
  {
   "cell_type": "code",
   "execution_count": 11,
   "metadata": {},
   "outputs": [],
   "source": [
    "# 입력\n",
    "nums = [0, 1, 0, 2, 1, 0, 1, 3, 2, 1, 2, 1]"
   ]
  },
  {
   "cell_type": "code",
   "execution_count": 15,
   "metadata": {},
   "outputs": [
    {
     "name": "stdout",
     "output_type": "stream",
     "text": [
      "6\n"
     ]
    }
   ],
   "source": [
    "# 풀이 1. 투 포인터를 최대로 이동\n",
    "def trap(height):\n",
    "    if not height:\n",
    "        return 0\n",
    "    \n",
    "    volume = 0\n",
    "    left, right = 0, len(height) - 1 # 왼쪽 끝과 오른쪽 끝\n",
    "    left_max, right_max = height[left], height[right] # 초기 왼쪽, 오른쪽 포인터의 최댓값\n",
    "    \n",
    "    while left < right: # 오른쪽과 왼쪽이 아직 안만났거나 지나지치 않았다면\n",
    "        left_max, right_max = max(height[left], left_max), max(height[right], right_max)\n",
    "        \n",
    "        # 더 높은 쪽을 향해 투 포인터 이동\n",
    "        if left_max <= right_max:\n",
    "            volume += left_max - height[left]\n",
    "            left += 1\n",
    "        else:\n",
    "            volume += right_max - height[right]\n",
    "            right -= 1\n",
    "            \n",
    "    return volume\n",
    "    \n",
    "print(trap(nums))"
   ]
  },
  {
   "cell_type": "code",
   "execution_count": 16,
   "metadata": {},
   "outputs": [
    {
     "name": "stdout",
     "output_type": "stream",
     "text": [
      "6\n"
     ]
    }
   ],
   "source": [
    "# 풀이 2. 스택 쌓기\n",
    "def trap(height):\n",
    "    stack = []\n",
    "    volume = 0\n",
    "    \n",
    "    for i in range(len(height)):\n",
    "        \n",
    "        # 변곡점을 만나는 경우 while문 작동\n",
    "        while stack and height[i] > height[stack[-1]]:\n",
    "            # 스택에서 꺼낸다\n",
    "            top = stack.pop()\n",
    "            \n",
    "            if not len(stack):\n",
    "                break\n",
    "                \n",
    "            # 이전과의 차이만큼 물 높이 처리\n",
    "            distance = i - stack[-1] - 1\n",
    "            waters = min(height[i], height[stack[-1]]) - height[top]\n",
    "            \n",
    "            volume += distance * waters\n",
    "        \n",
    "        stack.append(i)\n",
    "    return volume\n",
    "\n",
    "print(trap(nums))"
   ]
  },
  {
   "cell_type": "markdown",
   "metadata": {},
   "source": [
    "### 9. 세 수의 합\n",
    "리트코드 15. 3Sum  \n",
    "\n",
    "배열을 입력받아 합으로 0을 만들 수 있는 3개의 엘리먼트를 출력하라"
   ]
  },
  {
   "cell_type": "code",
   "execution_count": 18,
   "metadata": {},
   "outputs": [],
   "source": [
    "# 입력\n",
    "nums = [ -1, 0, 1, 2, -1, -4 ]"
   ]
  },
  {
   "cell_type": "code",
   "execution_count": 20,
   "metadata": {},
   "outputs": [
    {
     "name": "stdout",
     "output_type": "stream",
     "text": [
      "[(-1, -1, 2), (-1, 0, 1)]\n"
     ]
    }
   ],
   "source": [
    "# 풀이 1. 브루트 포스(무차별 대입) 시간복잡도는 n^3\n",
    "\n",
    "def threeSum(nums):\n",
    "    result = []\n",
    "    nums.sort() # 숫자 정렬\n",
    "    \n",
    "    for i in range(len(nums) - 2):\n",
    "        # 중복된 값 건너뛰기\n",
    "        if i > 0 and nums[i] == nums[i - 1]:\n",
    "            continue\n",
    "        for j in range(i + 1, len(nums) - 1):\n",
    "            if j > i + 1 and nums[j] == nums[j - 1]:\n",
    "                continue\n",
    "            for k in range(j + 1, len(nums)):\n",
    "                if k > j + 1 and nums[k] == nums[k - 1]:\n",
    "                    continue\n",
    "                if nums[i] + nums[j] + nums[k] == 0:\n",
    "                    result.append((nums[i], nums[j], nums[k]))\n",
    "                    \n",
    "    return result\n",
    "\n",
    "print(threeSum(nums))"
   ]
  },
  {
   "cell_type": "code",
   "execution_count": 24,
   "metadata": {},
   "outputs": [
    {
     "name": "stdout",
     "output_type": "stream",
     "text": [
      "[(-1, -1, 2), (-1, 0, 1)]\n"
     ]
    }
   ],
   "source": [
    "# 풀이 2. 투 포인터 합 계산\n",
    "# i를 축으로\n",
    "\n",
    "def threeSum(nums):\n",
    "    \n",
    "    result = []\n",
    "    nums.sort()\n",
    "    \n",
    "    for i in range(len(nums) - 2):\n",
    "        if i > 0 and nums[i] == nums[i - 1]:\n",
    "            continue\n",
    "        \n",
    "        # 투 포인터 구현\n",
    "        \n",
    "        left, right = i + 1, len(nums) - 1\n",
    "        while left < right:\n",
    "            sum = nums[i] + nums[left] + nums[right]\n",
    "            if sum < 0:\n",
    "                left += 1\n",
    "            elif sum > 0:\n",
    "                right -= 1\n",
    "            else:\n",
    "                # sum = 0인 경우이므로 정답 및 스킵처리\n",
    "                result.append((nums[i], nums[left], nums[right]))\n",
    "                \n",
    "                while left < right and nums[left] == nums[left + 1]:\n",
    "                    left += 1\n",
    "                while left < right and nums[right] == nums[right - 1]:\n",
    "                    right -= 1\n",
    "                left += 1\n",
    "                right -= 1\n",
    "                \n",
    "    return result\n",
    "\n",
    "print(threeSum(nums))"
   ]
  },
  {
   "cell_type": "markdown",
   "metadata": {},
   "source": [
    "### 10. 배열 파티션\n",
    "리트코드 : 561. Array Partition  \n",
    "\n",
    "n개의 페어를 활용한 min(a, b)의 합으로 만들 수 있는 가장 큰 수를 출력하라"
   ]
  },
  {
   "cell_type": "code",
   "execution_count": 25,
   "metadata": {},
   "outputs": [],
   "source": [
    "# 입력\n",
    "nums = [1, 4, 3, 2]"
   ]
  },
  {
   "cell_type": "code",
   "execution_count": 26,
   "metadata": {},
   "outputs": [
    {
     "name": "stdout",
     "output_type": "stream",
     "text": [
      "4\n"
     ]
    }
   ],
   "source": [
    "# 풀이 1. 오름차순 풀이\n",
    "def arrayPairSum(nums):\n",
    "    sum_num = 0\n",
    "    pair = []\n",
    "    nums.sort()\n",
    "    \n",
    "    for n in nums:\n",
    "        # 앞에서부터 오름차순으로 페어를 만들어 합 계산\n",
    "        pair.append(n)\n",
    "        if len(pair) == 2:\n",
    "            sum_num += min(pair)\n",
    "            pair = []\n",
    "            \n",
    "    return sum_num\n",
    "\n",
    "print(arrayPairSum(nums))"
   ]
  },
  {
   "cell_type": "code",
   "execution_count": 30,
   "metadata": {},
   "outputs": [
    {
     "name": "stdout",
     "output_type": "stream",
     "text": [
      "4\n"
     ]
    }
   ],
   "source": [
    "# 풀이 2. 짝수 번쨰 값 계산\n",
    "def arrayPairSum(nums):\n",
    "    sum_num = 0\n",
    "    nums.sort()\n",
    "    \n",
    "    for i, n in enumerate(nums):\n",
    "        # 짝수 번째 값의 합 계산\n",
    "        if i % 2 == 0:\n",
    "            sum_num += n\n",
    "            \n",
    "    return sum_num\n",
    "\n",
    "print(arrayPairSum(nums))"
   ]
  },
  {
   "cell_type": "code",
   "execution_count": 28,
   "metadata": {},
   "outputs": [
    {
     "name": "stdout",
     "output_type": "stream",
     "text": [
      "4\n"
     ]
    }
   ],
   "source": [
    "# 풀이 3. 파이썬 다운 방식\n",
    "def arrayPairSum(nums):\n",
    "    return sum(sorted(nums)[::2])\n",
    "\n",
    "print(arrayPairSum(nums))"
   ]
  },
  {
   "cell_type": "markdown",
   "metadata": {},
   "source": [
    "### 11. 자신을 제외한 배열의 곱\n",
    "리트코드 : 238. Product of Array Except Selft  \n",
    "\n",
    "배열을 입력받아 output[i]가 자신을 제외한 나머지 모든 요소의 곱셈 결과가 되도록 출력하라"
   ]
  },
  {
   "cell_type": "code",
   "execution_count": 31,
   "metadata": {},
   "outputs": [],
   "source": [
    "# 입력\n",
    "nums = [1, 2, 3, 4]"
   ]
  },
  {
   "cell_type": "code",
   "execution_count": 37,
   "metadata": {},
   "outputs": [
    {
     "name": "stdout",
     "output_type": "stream",
     "text": [
      "6\n",
      "8\n",
      "12\n",
      "24\n",
      "[24, 12, 8, 6]\n"
     ]
    }
   ],
   "source": [
    "# 풀이 1. 왼쪽 곱셈 결과에 오른쪽 값을 차례대로 곱셈\n",
    "\n",
    "def productExceptSelf(nums):\n",
    "    out = []\n",
    "    p = 1\n",
    "    \n",
    "    # 왼쪽 곱셈\n",
    "    for i in range(0, len(nums)):\n",
    "        out.append(p)\n",
    "        p = p * nums[i]\n",
    "\n",
    "    p = 1\n",
    "    \n",
    "    # 왼쪽 곱셈 결과에 오른쪽 값을 차례대로 곱셈\n",
    "    for i in range(len(nums) - 1, - 1, -1):\n",
    "        out[i] = out[i] * p\n",
    "\n",
    "        p = p * nums[i]\n",
    "        print(out[i])\n",
    "    \n",
    "    return out\n",
    "\n",
    "print(productExceptSelf(nums))"
   ]
  },
  {
   "cell_type": "markdown",
   "metadata": {},
   "source": [
    "### 12. 주식을 사고팔기 가장 좋은 시점\n",
    "리트코드 : 121. Best Time to Buy and Sell Stock  \n",
    "\n",
    "한 번의 거래로 낼 수 있는 최대 이익을 산출하라"
   ]
  },
  {
   "cell_type": "code",
   "execution_count": 39,
   "metadata": {},
   "outputs": [],
   "source": [
    "# 입력\n",
    "\n",
    "nums = [ 7, 1, 5, 3, 6, 4 ]"
   ]
  },
  {
   "cell_type": "code",
   "execution_count": 40,
   "metadata": {},
   "outputs": [
    {
     "name": "stdout",
     "output_type": "stream",
     "text": [
      "5\n"
     ]
    }
   ],
   "source": [
    "# 풀이 1. 브루트 포스 계산\n",
    "\n",
    "def maxProfit(nums):\n",
    "    max_price = 0\n",
    "    \n",
    "    for i, price in enumerate(nums):\n",
    "        for j in range(i, len(nums)):\n",
    "            max_price = max(nums[j] - price, max_price)\n",
    "            \n",
    "    return max_price\n",
    "\n",
    "print(maxProfit(nums))"
   ]
  },
  {
   "cell_type": "code",
   "execution_count": 43,
   "metadata": {},
   "outputs": [
    {
     "name": "stdout",
     "output_type": "stream",
     "text": [
      "5\n"
     ]
    }
   ],
   "source": [
    "# 풀이 2. 저점과 현재 값과의 차이 계산\n",
    "import sys\n",
    "\n",
    "def maxProfit(nums):\n",
    "    profit = 0\n",
    "    min_price = sys.maxsize\n",
    "    \n",
    "    # 최솟값과 최댓값을 계속 갱신\n",
    "    for price in nums:\n",
    "        min_price = min(min_price, price)\n",
    "        profit = max(profit, price - min_price)\n",
    "        \n",
    "    return profit\n",
    "\n",
    "print(maxProfit(nums))"
   ]
  },
  {
   "cell_type": "code",
   "execution_count": null,
   "metadata": {},
   "outputs": [],
   "source": []
  }
 ],
 "metadata": {
  "kernelspec": {
   "display_name": "Python 3",
   "language": "python",
   "name": "python3"
  },
  "language_info": {
   "codemirror_mode": {
    "name": "ipython",
    "version": 3
   },
   "file_extension": ".py",
   "mimetype": "text/x-python",
   "name": "python",
   "nbconvert_exporter": "python",
   "pygments_lexer": "ipython3",
   "version": "3.8.5"
  }
 },
 "nbformat": 4,
 "nbformat_minor": 4
}
