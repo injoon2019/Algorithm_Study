{
 "cells": [
  {
   "cell_type": "markdown",
   "metadata": {},
   "source": [
    "### 65. 이진 검색\n",
    "\n",
    "정렬된 nums를 입력받아 이진 검색으로 target에 해당하는 인덱스를 찾아라"
   ]
  },
  {
   "cell_type": "code",
   "execution_count": null,
   "metadata": {},
   "outputs": [],
   "source": [
    "# 풀이 1. 재귀 풀이\n",
    "class Solution:\n",
    "    def search(self, nums: List[int], target: int) -> int:\n",
    "        \n",
    "        def binary_search(left, right):\n",
    "            if left <= right:\n",
    "                mif = (left + right) // 2\n",
    "                \n",
    "                if nums[mid] < target:\n",
    "                    return binary_search(mid + 1, right)\n",
    "                elif nums[mid] > target:\n",
    "                    return binary_search(left, mid - 1)\n",
    "                else:\n",
    "                    return mid\n",
    "                \n",
    "            else:\n",
    "                return -1\n",
    "            \n",
    "        return binary_search(0, len(nums) -1)\n",
    "        "
   ]
  },
  {
   "cell_type": "code",
   "execution_count": null,
   "metadata": {},
   "outputs": [],
   "source": [
    "# 풀이 2. 반복 풀이\n",
    "class Solution:\n",
    "    def search(self, nums: List[int], target: int) -> int:\n",
    "        \n",
    "        left, right = 0, len(nums) - 1\n",
    "        while left <= right:\n",
    "            mid = (left + right) // 2\n",
    "            \n",
    "            if nums[mid] < target:\n",
    "                left = mid + 1\n",
    "            elif nums[mid] > target:\n",
    "                right = mid - 1\n",
    "            else:\n",
    "                return mid\n",
    "            \n",
    "        return -1"
   ]
  },
  {
   "cell_type": "code",
   "execution_count": null,
   "metadata": {},
   "outputs": [],
   "source": [
    "# 풀이 3. 이진 검색 모듈\n",
    "def search(self, nums: List[int], target: int) -> int:\n",
    "    index = bisect.bisect_left(nums, target)\n",
    "    \n",
    "    if index < len(nums) and nums[index] == target:\n",
    "        return index\n",
    "    else:\n",
    "        return -1"
   ]
  },
  {
   "cell_type": "code",
   "execution_count": null,
   "metadata": {},
   "outputs": [],
   "source": [
    "# 풀이 4. 이진 검색을 사용하지 않는 index 풀이\n",
    "def search(self, nums: List[int], target: int) -> int:\n",
    "    try:\n",
    "        return nums.index[target]\n",
    "    except ValueError:\n",
    "        return -1"
   ]
  },
  {
   "cell_type": "markdown",
   "metadata": {},
   "source": [
    "### 66. 회전 정렬된 배열 검색"
   ]
  },
  {
   "cell_type": "code",
   "execution_count": null,
   "metadata": {},
   "outputs": [],
   "source": []
  },
  {
   "cell_type": "markdown",
   "metadata": {},
   "source": [
    "### 67. 두 배열의 교집합\n",
    "\n",
    "두 배열의 교집합을 구하라"
   ]
  },
  {
   "cell_type": "code",
   "execution_count": null,
   "metadata": {},
   "outputs": [],
   "source": [
    "# 풀이 1. 브루트 포스 계산\n",
    "class Solution:\n",
    "    def intersection(self, nums1: List[int], nums2: List[int]) -> List[int]:\n",
    "        result: Set = set()\n",
    "        for n1 in nums1:\n",
    "            for n2 in nums2:\n",
    "                if n1 == n2:\n",
    "                    result.add(n1)\n",
    "        return result"
   ]
  },
  {
   "cell_type": "code",
   "execution_count": null,
   "metadata": {},
   "outputs": [],
   "source": [
    "# 풀이 2. 이진 검색으로 일치 여부 판별\n",
    "class Solution:\n",
    "    def intersection(self, nums1: List[int], nums2: List[int]) -> List[int]:\n",
    "        result: Set = set()\n",
    "        nums2.sort()\n",
    "        for n1 in nums1:\n",
    "            # 이진 검색으로 일치 여부 판별\n",
    "            i2 = bisect.bisect_left(nums2, n1)\n",
    "            if len(nums2) > 0 and len(nums2) > i2 and n1 == nums2[i2]:\n",
    "                result.add(n1)\n",
    "        return result"
   ]
  },
  {
   "cell_type": "code",
   "execution_count": null,
   "metadata": {},
   "outputs": [],
   "source": [
    "# 풀이 3. 투 포인터로 일치 여부 판별\n",
    "class Solution:\n",
    "    def intersection(self, nums1: List[int], nums2: List[int]) -> List[int]:\n",
    "        result: Set = set()\n",
    "        # 양쪽 모두 정렬\n",
    "        nums1.sort()\n",
    "        nums2.sort()\n",
    "        i = j = 0\n",
    "        # 투 포인터 우측으로 이동하여 일치 여부 판별\n",
    "        while i < len(nums1) and j < len(nums2):\n",
    "            if nums1[i] > nums2[j]:\n",
    "                j += 1\n",
    "            elif nums1[i] < nums2[j]:\n",
    "                i += 1\n",
    "            else:\n",
    "                result.add(nums1[i])\n",
    "                i += 1\n",
    "                j += 1\n",
    "        return result"
   ]
  },
  {
   "cell_type": "markdown",
   "metadata": {},
   "source": [
    "### 68. 두 수의 합2  \n",
    "\n",
    "정렬된 배열을 받아 덧셈하여 타겟을 만들 수 있는 배여르이 두 숫자 인덱스를 리턴하라.  \n",
    "\n",
    "주의* 이 문제의 인덱스는 0부터 시작하는 것이 아닌, 1부터 시작하는 것으로 간주한다."
   ]
  },
  {
   "cell_type": "code",
   "execution_count": null,
   "metadata": {},
   "outputs": [],
   "source": [
    "# 풀이 1. 투 포인터\n",
    "class Solution:\n",
    "    def twoSum(self, numbers: List[int], target: int) -> List[int]:\n",
    "        left, right = 0, len(numbers) - 1\n",
    "        while not left == right:\n",
    "            if numbers[left] + numbers[right] < target:\n",
    "                left += 1\n",
    "            elif numbers[left] + numbers[right] > target:\n",
    "                right -= 1\n",
    "            else:\n",
    "                return left + 1, right + 1 # 인덱스가 0부터가 아닌 1부터 시작하므로\n",
    "            "
   ]
  },
  {
   "cell_type": "code",
   "execution_count": null,
   "metadata": {},
   "outputs": [],
   "source": [
    "# 풀이 2. 이진 검색\n",
    "class Solution:\n",
    "    def twoSum(self, numbers: List[int], target: int) -> List[int]:\n",
    "        for k, v in enumerate(numbers):\n",
    "            left, right = k + 1, len(numbers) - 1\n",
    "            expected = target - v\n",
    "            # 이진 검색으로 나머지 값 판별\n",
    "            while left <= right:\n",
    "                mid = left + (right - left) // 2\n",
    "                if numbers[mid] < expected:\n",
    "                    left = mid + 1\n",
    "                elif numbers[mid] > expected:\n",
    "                     right = mid - 1\n",
    "                else:\n",
    "                    return k + 1, mid + 1"
   ]
  },
  {
   "cell_type": "markdown",
   "metadata": {},
   "source": [
    "### 69. 2D 행렬 검색2\n",
    "m x n 행렬에서 값을 찾아내는 효율적인 알고리즘을 구현하라. 행렬은 왼쪽에서 오른쪽, 위에서 아래 오름차순으로 정렬되어 있다."
   ]
  },
  {
   "cell_type": "code",
   "execution_count": null,
   "metadata": {},
   "outputs": [],
   "source": [
    "# 풀이 1. 첫 행의 맨 뒤에서 탐색\n",
    "class Solution:\n",
    "    def searchMatrix(self, matrix: List[List[int]], target: int) -> bool:\n",
    "        # 예외 처리\n",
    "        if not matrix:\n",
    "            return False\n",
    "        \n",
    "        # 첫 행의 맨 뒤\n",
    "        row = 0\n",
    "        col = len(matrix[0]) - 1\n",
    "        \n",
    "        while row <= len(matrix) - 1 and col >= 0:\n",
    "            if target == matrix[row][col]:\n",
    "                return True\n",
    "            # 타겟이 작으면 왼쪽으로 이동\n",
    "            elif target < matrix[row][col]:\n",
    "                col -= 1\n",
    "            \n",
    "            # 타겟이 크면 아래로 이동\n",
    "            elif target > matrix[row][col]:\n",
    "                row += 1\n",
    "        return False"
   ]
  },
  {
   "cell_type": "code",
   "execution_count": null,
   "metadata": {},
   "outputs": [],
   "source": [
    "# 풀이 2. 파이썬 다운 방식\n",
    "def searchMatrix(self, matrix: List[List[int]], target: int) -> bool:\n",
    "    return any(target in row for row in matirx)"
   ]
  }
 ],
 "metadata": {
  "kernelspec": {
   "display_name": "Python 3",
   "language": "python",
   "name": "python3"
  },
  "language_info": {
   "codemirror_mode": {
    "name": "ipython",
    "version": 3
   },
   "file_extension": ".py",
   "mimetype": "text/x-python",
   "name": "python",
   "nbconvert_exporter": "python",
   "pygments_lexer": "ipython3",
   "version": "3.8.5"
  }
 },
 "nbformat": 4,
 "nbformat_minor": 4
}
