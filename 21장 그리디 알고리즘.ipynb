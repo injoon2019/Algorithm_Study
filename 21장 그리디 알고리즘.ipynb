{
 "cells": [
  {
   "cell_type": "markdown",
   "metadata": {},
   "source": [
    "## 78. 주식을 사고팔기 가장 좋은 시점2\n",
    "\n",
    "여러 번의 거래로 낼 수 있는 최대 이익을 산출하라."
   ]
  },
  {
   "cell_type": "code",
   "execution_count": 1,
   "metadata": {},
   "outputs": [],
   "source": [
    "prices = [7, 1, 5, 3, 6, 4]"
   ]
  },
  {
   "cell_type": "code",
   "execution_count": 4,
   "metadata": {},
   "outputs": [
    {
     "data": {
      "text/plain": [
       "7"
      ]
     },
     "execution_count": 4,
     "metadata": {},
     "output_type": "execute_result"
    }
   ],
   "source": [
    "# 풀이 1. 그리디 알고리즘\n",
    "def maxProfit(prices):\n",
    "    result = 0\n",
    "    \n",
    "    for i in range(len(prices) - 1):\n",
    "        if prices[i+1] > prices[i]:\n",
    "            result += prices[i + 1] - prices[i]\n",
    "            \n",
    "    return result\n",
    "\n",
    "maxProfit(prices)"
   ]
  },
  {
   "cell_type": "code",
   "execution_count": 6,
   "metadata": {},
   "outputs": [
    {
     "data": {
      "text/plain": [
       "7"
      ]
     },
     "execution_count": 6,
     "metadata": {},
     "output_type": "execute_result"
    }
   ],
   "source": [
    "# 2. 파이썬 다운 방식\n",
    "def maxProfit(prices):\n",
    "    # 0보다 크면 무조건 합산\n",
    "    return sum(max(prices[i + 1] - prices[i], 0) for i in range(len(prices) -1))\n",
    "\n",
    "maxProfit(prices)"
   ]
  },
  {
   "cell_type": "markdown",
   "metadata": {},
   "source": [
    "## 79. 키에 따른 대기열 재구성\n",
    "\n",
    "여러 명의 사람들이 줄 서 있다. 각각 사람은 (h, k)의 두 정수 쌍을 갖는데, h는 그 사람의 키, k는 앞에 줄 서 있는 사람들 중 자신의 키 이상인 사람들의 수를 뜻한다. 이 값이 올바르도록 줄을 재정렬하는 알고리즘을 작성하라."
   ]
  },
  {
   "cell_type": "code",
   "execution_count": 7,
   "metadata": {},
   "outputs": [],
   "source": [
    "people = [[7, 0], [4, 4], [5, 0], [6, 1], [5, 2]]\n",
    "\n",
    "# ouput = [[5, 0], [7, 0], [5, 2], [6, 1], [4, 4], [7, 1]]"
   ]
  },
  {
   "cell_type": "code",
   "execution_count": 9,
   "metadata": {},
   "outputs": [
    {
     "data": {
      "text/plain": [
       "[[5, 0], [7, 0], [5, 2], [6, 1], [4, 4]]"
      ]
     },
     "execution_count": 9,
     "metadata": {},
     "output_type": "execute_result"
    }
   ],
   "source": [
    "# 1. 우선순위 큐 사용\n",
    "# h가 큰 순서대로 k를 인덱스로 사용해 정렬\n",
    "\n",
    "import heapq\n",
    "\n",
    "def reconstructQueue(people):\n",
    "    heap = []\n",
    "    # 키 역순, 인덱스 삽입\n",
    "    for person in people:\n",
    "        heapq.heappush(heap, (-person[0], person[1]))\n",
    "        \n",
    "    result = []\n",
    "    \n",
    "    # 키 역순, 인덱스 추출\n",
    "    while heap:\n",
    "        person = heapq.heappop(heap)\n",
    "        result.insert(person[1], [-person[0], person[1]])\n",
    "        \n",
    "    return result\n",
    "\n",
    "reconstructQueue(people)    "
   ]
  },
  {
   "cell_type": "markdown",
   "metadata": {},
   "source": [
    "## 80. 태스크 스케줄러\n",
    "\n",
    "A에서 Z로 표현된 태스크가 있다. 각 간격마다 CPU는 한 번의 태스크만 실행할 수 있고,  \n",
    "n번 간격 내에는 동일한 태스크를 실행할 수 없다. 더 이상 태스크를 실행할 수 없는 경우 아이들 상태가 된다.  \n",
    "모든 태스크를 실행하기 위한 최소 간격을 출력하라."
   ]
  },
  {
   "cell_type": "code",
   "execution_count": 28,
   "metadata": {},
   "outputs": [],
   "source": [
    "tasks = [\"A\", \"A\", \"A\", \"B\", \"B\", \"B\", \"C\", \"C\"] \n",
    "n = 2\n",
    "\n",
    "# output = 8"
   ]
  },
  {
   "cell_type": "code",
   "execution_count": 29,
   "metadata": {},
   "outputs": [
    {
     "data": {
      "text/plain": [
       "Counter({'A': 3, 'B': 3, 'C': 2})"
      ]
     },
     "execution_count": 29,
     "metadata": {},
     "output_type": "execute_result"
    }
   ],
   "source": [
    "counter = Counter(tasks)\n",
    "counter"
   ]
  },
  {
   "cell_type": "code",
   "execution_count": 30,
   "metadata": {},
   "outputs": [
    {
     "name": "stdout",
     "output_type": "stream",
     "text": [
      "A\n",
      "B\n",
      "C\n"
     ]
    }
   ],
   "source": [
    "counter.most_common(n + 1)\n",
    "for task, _ in counter.most_common(n + 1):\n",
    "    print( task )"
   ]
  },
  {
   "cell_type": "code",
   "execution_count": 33,
   "metadata": {},
   "outputs": [
    {
     "data": {
      "text/plain": [
       "Counter({'A': 3, 'B': 3, 'C': 0})"
      ]
     },
     "execution_count": 33,
     "metadata": {},
     "output_type": "execute_result"
    }
   ],
   "source": [
    "counter.subtract('C')\n",
    "counter"
   ]
  },
  {
   "cell_type": "code",
   "execution_count": 34,
   "metadata": {},
   "outputs": [
    {
     "data": {
      "text/plain": [
       "Counter({'A': 3, 'B': 3})"
      ]
     },
     "execution_count": 34,
     "metadata": {},
     "output_type": "execute_result"
    }
   ],
   "source": [
    "counter += Counter()\n",
    "counter"
   ]
  },
  {
   "cell_type": "code",
   "execution_count": 19,
   "metadata": {},
   "outputs": [
    {
     "data": {
      "text/plain": [
       "8"
      ]
     },
     "execution_count": 19,
     "metadata": {},
     "output_type": "execute_result"
    }
   ],
   "source": [
    "# 1. 우선순위 큐 이용\n",
    "from collections import Counter\n",
    "\n",
    "def leastInterval(tasks, n):\n",
    "    counter = Counter(tasks)\n",
    "    result = 0\n",
    "    \n",
    "    while True:\n",
    "        sub_count = 0\n",
    "        \n",
    "        # 개수 순 추출\n",
    "        for task, _ in counter.most_common(n + 1): # 아이들 상태에 빠지지 않기 위한 n + 1\n",
    "            sub_count += 1\n",
    "            result += 1\n",
    "            \n",
    "            counter.subtract(task) # task 요소를 하나씩 제거\n",
    "            # 0 이하인 아이템을 목록에서 완전히 제거\n",
    "            counter += Counter()\n",
    "            \n",
    "        if not counter:\n",
    "            break\n",
    "        \n",
    "        result += n - sub_count + 1 # idle 상태도 실행 횟수로 포함\n",
    "    \n",
    "    return result\n",
    "\n",
    "leastInterval(tasks, n)"
   ]
  },
  {
   "cell_type": "markdown",
   "metadata": {},
   "source": [
    "## 81. 주유소\n",
    "\n",
    "원형으로 경로가 연결된 주유소 목록이 있다. 각 주유소는 gas[i]만큼의 기름을 갖고 있으며,  \n",
    "다음 주유소로 이동하는데 cost[i]가 필요하다. 기름이 부족하면 이동할 수 없다고 할 때,  \n",
    "모든 주유소를 방문할 수 있는 출발점의 인덱스를 출력하라.  \n",
    "출발점이 존재하지 않을 경우 -1을 리턴하며, 출발점은 유일하다."
   ]
  },
  {
   "cell_type": "code",
   "execution_count": 35,
   "metadata": {},
   "outputs": [],
   "source": [
    "gas = [ 1, 2, 3, 4, 5 ]\n",
    "cost = [ 3, 4, 5, 1, 2 ]\n",
    "\n",
    "# out = 3"
   ]
  },
  {
   "cell_type": "code",
   "execution_count": 36,
   "metadata": {},
   "outputs": [
    {
     "data": {
      "text/plain": [
       "3"
      ]
     },
     "execution_count": 36,
     "metadata": {},
     "output_type": "execute_result"
    }
   ],
   "source": [
    "# 1. 모두 방문\n",
    "def canCompleteCircuit(gas, cost):\n",
    "    for start in range(len(gas)): # 모든 지점을 출발점으로 실행해본다.\n",
    "        fuel = 0\n",
    "        for i in range(start, len(gas) + start): \n",
    "            index = i % len(gas) # # 출발점부터 원형 서클을 그리기 위해\n",
    "            \n",
    "            can_travel = True\n",
    "            if gas[index] + fuel < cost[index]: # 현재 주유소에 있는 가스와, 갖고 있는 연료의 양보다 다음 비용이 클 경우\n",
    "                can_travel = False # 여행은 불가능함\n",
    "                break # 중지하고 return -1 로 이동\n",
    "            else:\n",
    "                fuel += gas[index] - cost[index]\n",
    "        \n",
    "        if can_travel:\n",
    "            return start\n",
    "    return -1\n",
    "\n",
    "canCompleteCircuit(gas, cost)"
   ]
  },
  {
   "cell_type": "code",
   "execution_count": 49,
   "metadata": {},
   "outputs": [
    {
     "data": {
      "text/plain": [
       "3"
      ]
     },
     "execution_count": 49,
     "metadata": {},
     "output_type": "execute_result"
    }
   ],
   "source": [
    "# 2. 한번 방문\n",
    "# 전체 기름의 양이 전체 비용보다 클 경우 출발점이 반드시 전체를 방문할 수 있는 출발점이 존재함.\n",
    "def canCompleteCircuit(gas, cost):\n",
    "    # 여행 가능 여부 판별\n",
    "    if sum(gas) < sum(cost):\n",
    "        return -1\n",
    "    \n",
    "    start, fuel = 0, 0\n",
    "    for i in range(len(gas)):\n",
    "        # 출발점이 안되는 지점 판별\n",
    "        if gas[i] + fuel < cost[i]: # 현재 출발지는 안됨\n",
    "            start = i + 1 # 출발지를 다음으로 변경\n",
    "            fuel = 0 \n",
    "        else:\n",
    "            fuel += gas[i] - cost[i]\n",
    "    return start\n",
    "\n",
    "canCompleteCircuit(gas, cost)"
   ]
  },
  {
   "cell_type": "markdown",
   "metadata": {},
   "source": [
    "## 82. 쿠키 부여\n",
    "\n",
    "아이들에게 1개씩 쿠키를 나눠줘야 한다. 각 아이 child_i 마다 그리드 팩터 gi를 갖고 있으며,  \n",
    "이는 아이가 만족하는 최소 쿠키의 크기를 말한다. 각 쿠키 cookie_j는 크기 si를 갖고 있으며,  \n",
    "sj >= gi 이어야 아이가 만족하며 쿠키를 받는다. 최대 몇 명의 아이들에게 쿠키를 줄 수 있는지 출력하라."
   ]
  },
  {
   "cell_type": "code",
   "execution_count": 50,
   "metadata": {},
   "outputs": [],
   "source": [
    "g = [1, 2, 3]\n",
    "s = [1, 1]\n",
    "\n",
    "# out = 1"
   ]
  },
  {
   "cell_type": "code",
   "execution_count": 51,
   "metadata": {},
   "outputs": [
    {
     "data": {
      "text/plain": [
       "1"
      ]
     },
     "execution_count": 51,
     "metadata": {},
     "output_type": "execute_result"
    }
   ],
   "source": [
    "# 1. 그리디 알고리즘\n",
    "def findContentChildren(g, s):\n",
    "    g.sort()\n",
    "    s.sort()\n",
    "    \n",
    "    child_i = cookie_j = 0\n",
    "    # 만족하지 못할 때 까지 그리디 진행\n",
    "    while child_i < len(g) and cookie_j < len(s):\n",
    "        if s[cookie_j] >= g[child_i]:\n",
    "            child_i += 1\n",
    "        cookie_j += 1\n",
    "        \n",
    "    return child_i\n",
    "        \n",
    "findContentChildren(g, s)"
   ]
  },
  {
   "cell_type": "code",
   "execution_count": 53,
   "metadata": {},
   "outputs": [
    {
     "data": {
      "text/plain": [
       "1"
      ]
     },
     "execution_count": 53,
     "metadata": {},
     "output_type": "execute_result"
    }
   ],
   "source": [
    "# 2. 이진 검색\n",
    "import bisect\n",
    "\n",
    "def findContentChildren(g, s):\n",
    "    g.sort()\n",
    "    s.sort()\n",
    "    \n",
    "    result = 0\n",
    "    for i in s:\n",
    "        # 이진 검색으로 더 큰 인덱스 탐색\n",
    "        index = bisect.bisect_right(g, i)\n",
    "        if index > result:\n",
    "            result += 1\n",
    "    return result\n",
    "\n",
    "findContentChildren(g, s)"
   ]
  }
 ],
 "metadata": {
  "kernelspec": {
   "display_name": "Python 3",
   "language": "python",
   "name": "python3"
  },
  "language_info": {
   "codemirror_mode": {
    "name": "ipython",
    "version": 3
   },
   "file_extension": ".py",
   "mimetype": "text/x-python",
   "name": "python",
   "nbconvert_exporter": "python",
   "pygments_lexer": "ipython3",
   "version": "3.8.5"
  }
 },
 "nbformat": 4,
 "nbformat_minor": 4
}
