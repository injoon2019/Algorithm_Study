{
 "cells": [
  {
   "cell_type": "markdown",
   "metadata": {},
   "source": [
    " ### 28. 해시맵 디자인"
   ]
  },
  {
   "cell_type": "code",
   "execution_count": 1,
   "metadata": {},
   "outputs": [],
   "source": [
    "# 풀이 1. 개별 체이닝으로 풀이하기\n",
    "class ListNode:\n",
    "    def __init__(self, key=None, value=None):\n",
    "        self.key = key\n",
    "        self.value = value\n",
    "        self.next = None\n",
    "        \n",
    "\n",
    "class MyHashMap:\n",
    "\n",
    "    def __init__(self):\n",
    "        self.size = 1000\n",
    "        self.table = collections.defaultdict(ListNode)\n",
    "        \n",
    "\n",
    "    def put(self, key: int, value: int) -> None:\n",
    "        index = key % self.size\n",
    "        # 인덱스에 노드가 없다면 삽입 후 종료\n",
    "        if self.table[index].value is None:\n",
    "            self.table[index] = ListNode(key, value)\n",
    "            return \n",
    "        \n",
    "        # 인덱스에 노드가 존재하는 경우 연결리스트 처리\n",
    "        p = self.table[index]\n",
    "        while p:\n",
    "            if p.key == key:\n",
    "                p.value = value\n",
    "                return\n",
    "            if p.next is None:\n",
    "                break\n",
    "            \n",
    "            p = p.next\n",
    "            \n",
    "        p.next = ListNode(key, value)\n",
    "        \n",
    "\n",
    "    def get(self, key: int) -> int:\n",
    "        index = key % self.size\n",
    "        if self.table[index].value is None:\n",
    "            return -1\n",
    "        \n",
    "        p = self.table[index]\n",
    "        while p:\n",
    "            if p.key == key:\n",
    "                return p.value\n",
    "            p = p.next\n",
    "            \n",
    "        return -1\n",
    "        \n",
    "\n",
    "    def remove(self, key: int) -> None:\n",
    "        index = key % self.size\n",
    "        if self.table[index].value is None:\n",
    "            return\n",
    "        \n",
    "        # 인덱스의 첫 번째 노드일 때 삭제 처리\n",
    "        p = self.table[index]\n",
    "        if p.key == key:\n",
    "            self.table[index] = ListNode() if p.next is None else p.next\n",
    "            return\n",
    "        \n",
    "        # 연결 리스트 노드 삭제\n",
    "        prev = p\n",
    "        while p:\n",
    "            if p.key == key:\n",
    "                prev.next = p.next\n",
    "                return\n",
    "            prev, p = p, p.next\n",
    "        \n",
    "\n",
    "\n",
    "# Your MyHashMap object will be instantiated and called as such:\n",
    "# obj = MyHashMap()\n",
    "# obj.put(key,value)\n",
    "# param_2 = obj.get(key)\n",
    "# obj.remove(key)"
   ]
  },
  {
   "cell_type": "markdown",
   "metadata": {},
   "source": [
    "### 29. 보석과 돌\n",
    "\n",
    "J는 보석이며, S는 갖고 있는 돌이다. S에는 보석이 몇 개나 들어있을까? 대소문자는 구분한다."
   ]
  },
  {
   "cell_type": "code",
   "execution_count": 2,
   "metadata": {},
   "outputs": [],
   "source": [
    "# 입력\n",
    "J = \"aA\""
   ]
  },
  {
   "cell_type": "code",
   "execution_count": 6,
   "metadata": {},
   "outputs": [
    {
     "name": "stdout",
     "output_type": "stream",
     "text": [
      "a\n",
      "A\n"
     ]
    }
   ],
   "source": [
    "# 공부의 핵심은 해시 테이블이지만 생각나는대로 풀어보면...\n",
    "class Solution:\n",
    "    def numJewelsInStones(self, jewels: str, stones: str) -> int:\n",
    "        count = 0\n",
    "        \n",
    "        for j in jewels:\n",
    "            for s in stones:\n",
    "                if j == s:\n",
    "                    count += 1\n",
    "        \n",
    "        return count"
   ]
  },
  {
   "cell_type": "code",
   "execution_count": null,
   "metadata": {},
   "outputs": [],
   "source": [
    "# 풀이 1. 해시 테이블을 이용한 풀이\n",
    "class Solution:\n",
    "    def numJewelsInStones(self, jewels: str, stones: str) -> int:\n",
    "        freqs = {}\n",
    "        \n",
    "        # 돌 안의 보석 빈도수를 딕셔너리에 저장\n",
    "        for char in stones:\n",
    "            if char not in freqs:\n",
    "                freqs[char] = 1\n",
    "            else:\n",
    "                freqs[char] += 1\n",
    "                \n",
    "        count = 0\n",
    "        for char in jewels:\n",
    "            if char in freqs:\n",
    "                count += freqs[char]\n",
    "        \n",
    "        return count"
   ]
  },
  {
   "cell_type": "code",
   "execution_count": null,
   "metadata": {},
   "outputs": [],
   "source": [
    "# 풀이 2. deafualtdict 를 이용한 비교 생략\n",
    "class Solution:\n",
    "    def numJewelsInStones(self, jewels: str, stones: str) -> int:\n",
    "        freqs = collections.defaultdict(int)\n",
    "        count = 0\n",
    "        \n",
    "        # 비교 없이 돌 빈도수 계산\n",
    "        for char in stones:\n",
    "            freqs[char] += 1\n",
    "            \n",
    "        # 비교 없이 보석 빈도수 합산\n",
    "        for char in jewels:\n",
    "            count += freqs[char]\n",
    "            \n",
    "        return count"
   ]
  },
  {
   "cell_type": "code",
   "execution_count": null,
   "metadata": {},
   "outputs": [],
   "source": [
    "# 풀이 3. Counter()함수 사용\n",
    "class Solution:\n",
    "    def numJewelsInStones(self, jewels: str, stones: str) -> int:\n",
    "        freqs = collections.Counter(stones) # 돌 빈도수 계산\n",
    "        count = 0\n",
    "        \n",
    "        # 비교 없이 보석 빈도 계산\n",
    "        for char in jewels:\n",
    "            count += freqs[char]\n",
    "        \n",
    "        return count"
   ]
  },
  {
   "cell_type": "code",
   "execution_count": null,
   "metadata": {},
   "outputs": [],
   "source": [
    "# 풀이 4. 파이썬 다운 방식\n",
    "class Solution:\n",
    "    def numJewelsInStones(self, jewels: str, stones: str) -> int:\n",
    "        return sum(s in jewels for s in stones)"
   ]
  },
  {
   "cell_type": "markdown",
   "metadata": {},
   "source": [
    "\n",
    "### 30. 중복 문자 없는 가장 긴 부분 문자열\n",
    "리트코드 3.  \n",
    "중복 문자가 없는 가장 긴 부분 문자열의 길이를 리턴하라"
   ]
  },
  {
   "cell_type": "code",
   "execution_count": 7,
   "metadata": {},
   "outputs": [
    {
     "name": "stdout",
     "output_type": "stream",
     "text": [
      "3\n"
     ]
    }
   ],
   "source": [
    "# 풀이 1. 슬라이딩 윈도우와 투 포인터로 사이즈 조절\n",
    "class Solution:\n",
    "    def lengthOfLongestSubstring(self, s: str) -> int:\n",
    "        used = {}\n",
    "        max_length = start = 0\n",
    "        for index, char in enumerate(s):\n",
    "            if char in used:\n",
    "                start =used[char] + 1\n",
    "            else:\n",
    "                max_length = max(max_length, index - start + 1)\n",
    "            \n",
    "            used[char] = index\n",
    "        return max_length"
   ]
  },
  {
   "cell_type": "markdown",
   "metadata": {},
   "source": [
    "### 31. 상위 k 빈도 요소\n",
    "리트코드 347\n",
    "\n",
    "k번 이상 등장하는 요소를 추출하라"
   ]
  },
  {
   "cell_type": "code",
   "execution_count": 8,
   "metadata": {},
   "outputs": [
    {
     "ename": "NameError",
     "evalue": "name 'List' is not defined",
     "output_type": "error",
     "traceback": [
      "\u001b[1;31m---------------------------------------------------------------------------\u001b[0m",
      "\u001b[1;31mNameError\u001b[0m                                 Traceback (most recent call last)",
      "\u001b[1;32m<ipython-input-8-50e471321430>\u001b[0m in \u001b[0;36m<module>\u001b[1;34m\u001b[0m\n\u001b[0;32m      1\u001b[0m \u001b[1;31m# 풀이 1. Counter를 이용한 음수 순 추출\u001b[0m\u001b[1;33m\u001b[0m\u001b[1;33m\u001b[0m\u001b[1;33m\u001b[0m\u001b[0m\n\u001b[1;32m----> 2\u001b[1;33m \u001b[1;32mclass\u001b[0m \u001b[0mSolution\u001b[0m\u001b[1;33m:\u001b[0m\u001b[1;33m\u001b[0m\u001b[1;33m\u001b[0m\u001b[0m\n\u001b[0m\u001b[0;32m      3\u001b[0m     \u001b[1;32mdef\u001b[0m \u001b[0mtopKFrequent\u001b[0m\u001b[1;33m(\u001b[0m\u001b[0mself\u001b[0m\u001b[1;33m,\u001b[0m \u001b[0mnums\u001b[0m\u001b[1;33m:\u001b[0m \u001b[0mList\u001b[0m\u001b[1;33m[\u001b[0m\u001b[0mint\u001b[0m\u001b[1;33m]\u001b[0m\u001b[1;33m,\u001b[0m \u001b[0mk\u001b[0m\u001b[1;33m:\u001b[0m \u001b[0mint\u001b[0m\u001b[1;33m)\u001b[0m \u001b[1;33m->\u001b[0m \u001b[0mList\u001b[0m\u001b[1;33m[\u001b[0m\u001b[0mint\u001b[0m\u001b[1;33m]\u001b[0m\u001b[1;33m:\u001b[0m\u001b[1;33m\u001b[0m\u001b[1;33m\u001b[0m\u001b[0m\n\u001b[0;32m      4\u001b[0m         \u001b[0mfreqs\u001b[0m \u001b[1;33m=\u001b[0m \u001b[0mcollections\u001b[0m\u001b[1;33m.\u001b[0m\u001b[0mCounter\u001b[0m\u001b[1;33m(\u001b[0m\u001b[0mnums\u001b[0m\u001b[1;33m)\u001b[0m\u001b[1;33m\u001b[0m\u001b[1;33m\u001b[0m\u001b[0m\n\u001b[0;32m      5\u001b[0m         \u001b[0mfreqs_heap\u001b[0m \u001b[1;33m=\u001b[0m \u001b[1;33m[\u001b[0m\u001b[1;33m]\u001b[0m\u001b[1;33m\u001b[0m\u001b[1;33m\u001b[0m\u001b[0m\n",
      "\u001b[1;32m<ipython-input-8-50e471321430>\u001b[0m in \u001b[0;36mSolution\u001b[1;34m()\u001b[0m\n\u001b[0;32m      1\u001b[0m \u001b[1;31m# 풀이 1. Counter를 이용한 음수 순 추출\u001b[0m\u001b[1;33m\u001b[0m\u001b[1;33m\u001b[0m\u001b[1;33m\u001b[0m\u001b[0m\n\u001b[0;32m      2\u001b[0m \u001b[1;32mclass\u001b[0m \u001b[0mSolution\u001b[0m\u001b[1;33m:\u001b[0m\u001b[1;33m\u001b[0m\u001b[1;33m\u001b[0m\u001b[0m\n\u001b[1;32m----> 3\u001b[1;33m     \u001b[1;32mdef\u001b[0m \u001b[0mtopKFrequent\u001b[0m\u001b[1;33m(\u001b[0m\u001b[0mself\u001b[0m\u001b[1;33m,\u001b[0m \u001b[0mnums\u001b[0m\u001b[1;33m:\u001b[0m \u001b[0mList\u001b[0m\u001b[1;33m[\u001b[0m\u001b[0mint\u001b[0m\u001b[1;33m]\u001b[0m\u001b[1;33m,\u001b[0m \u001b[0mk\u001b[0m\u001b[1;33m:\u001b[0m \u001b[0mint\u001b[0m\u001b[1;33m)\u001b[0m \u001b[1;33m->\u001b[0m \u001b[0mList\u001b[0m\u001b[1;33m[\u001b[0m\u001b[0mint\u001b[0m\u001b[1;33m]\u001b[0m\u001b[1;33m:\u001b[0m\u001b[1;33m\u001b[0m\u001b[1;33m\u001b[0m\u001b[0m\n\u001b[0m\u001b[0;32m      4\u001b[0m         \u001b[0mfreqs\u001b[0m \u001b[1;33m=\u001b[0m \u001b[0mcollections\u001b[0m\u001b[1;33m.\u001b[0m\u001b[0mCounter\u001b[0m\u001b[1;33m(\u001b[0m\u001b[0mnums\u001b[0m\u001b[1;33m)\u001b[0m\u001b[1;33m\u001b[0m\u001b[1;33m\u001b[0m\u001b[0m\n\u001b[0;32m      5\u001b[0m         \u001b[0mfreqs_heap\u001b[0m \u001b[1;33m=\u001b[0m \u001b[1;33m[\u001b[0m\u001b[1;33m]\u001b[0m\u001b[1;33m\u001b[0m\u001b[1;33m\u001b[0m\u001b[0m\n",
      "\u001b[1;31mNameError\u001b[0m: name 'List' is not defined"
     ]
    }
   ],
   "source": [
    "# 풀이 1. Counter를 이용한 음수 순 추출 \n",
    "class Solution:\n",
    "    def topKFrequent(self, nums: List[int], k: int) -> List[int]:\n",
    "        freqs = collections.Counter(nums)\n",
    "        freqs_heap = []\n",
    "        \n",
    "        # 힙에 음수로 삽입\n",
    "        for f in freqs:\n",
    "            heapq.heappush(freqs_heap, (-freqs[f], f))\n",
    "            \n",
    "        topk = list()\n",
    "        \n",
    "        # k번 만큼 추출, 최소 힙이므로 가장 작은 음수순으로 추출\n",
    "        \n",
    "        for _ in range(k):\n",
    "            topk.append(heapq.heappop(freqs_heap)[1])\n",
    "            \n",
    "        return topk"
   ]
  },
  {
   "cell_type": "code",
   "execution_count": null,
   "metadata": {},
   "outputs": [],
   "source": [
    "# 풀이 2. 파이썬 다운 방식\n",
    "class Solution:\n",
    "    def topKFrequent(self, nums: List[int], k: int) -> List[int]:\n",
    "        return list(zip(*collections.Counter(nums).most_common(k)))[0]"
   ]
  }
 ],
 "metadata": {
  "kernelspec": {
   "display_name": "Python 3",
   "language": "python",
   "name": "python3"
  },
  "language_info": {
   "codemirror_mode": {
    "name": "ipython",
    "version": 3
   },
   "file_extension": ".py",
   "mimetype": "text/x-python",
   "name": "python",
   "nbconvert_exporter": "python",
   "pygments_lexer": "ipython3",
   "version": "3.8.5"
  }
 },
 "nbformat": 4,
 "nbformat_minor": 4
}
