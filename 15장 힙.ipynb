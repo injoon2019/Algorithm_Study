{
 "cells": [
  {
   "cell_type": "markdown",
   "metadata": {},
   "source": [
    "### 힙 구현해보기"
   ]
  },
  {
   "cell_type": "code",
   "execution_count": 1,
   "metadata": {},
   "outputs": [],
   "source": [
    "class BinaryHeap(object):\n",
    "    def __init__(self):\n",
    "        self.items = [None]\n",
    "        \n",
    "    def __len__(self):\n",
    "        return len(self.items) - 1\n",
    "    \n",
    "    # 삽입 시 실행, 반복 구조 구현\n",
    "    def _percolate_up(self):\n",
    "        i = len(self)\n",
    "        parent = i // 2\n",
    "        while parent > 0:\n",
    "            if self.items[i] < self.items[parent]:\n",
    "                self.items[parent], self.items[i] = self.items[i], self.items[parent]\n",
    "                \n",
    "            i = parent\n",
    "            parent = i // 2\n",
    "            \n",
    "    def insert(self, k):\n",
    "        self.items.append(k)\n",
    "        self._percolate_up()\n",
    "        \n",
    "    # 추출시 실행, 재귀 구조로 구현\n",
    "    def _percolate_down(self, idx):\n",
    "        left = idx * 2\n",
    "        right = idx * 2 + 1\n",
    "        smallest = idx\n",
    "        \n",
    "        if left <= len(self) and self.items[left] < self.items[smallest]:\n",
    "            smallest = left\n",
    "        \n",
    "        if right <= len(self) and self.items[right] < self.items[smallest]:\n",
    "            smallest = right\n",
    "            \n",
    "        if smallest != idx:\n",
    "            self.items[idx], self.items[smllest] = self.items[smallest], self.items[idx]\n",
    "            self._percolate_down(smallest)\n",
    "            \n",
    "    def extract(self):\n",
    "        extracted = self.items[1]\n",
    "        self.items[1] = self.items[len(self)]\n",
    "        self.items.pop()\n",
    "        self._percolate_down(1)\n",
    "        return extracted\n",
    "        "
   ]
  },
  {
   "cell_type": "markdown",
   "metadata": {},
   "source": [
    "### 55. 배열의 k번째 큰 요소\n",
    "\n",
    "정렬되지 않은 배열에서 k번째 큰 요소를 추출하라."
   ]
  },
  {
   "cell_type": "code",
   "execution_count": null,
   "metadata": {},
   "outputs": [],
   "source": [
    "# 풀이 1. heapq 모듈 이용  ... 이거 왜 안됌...?\n",
    "class Solution:\n",
    "    def findKthLargest(self, nums: List[int], k: int) -> int:\n",
    "        heap = list()\n",
    "        for n in nums:\n",
    "            heapq.heappush(heap, -n)\n",
    "            \n",
    "        for _ in range(k):\n",
    "            heapq.heappop(heap)\n",
    "            \n",
    "        return -heapq.heappop(heap)"
   ]
  },
  {
   "cell_type": "code",
   "execution_count": null,
   "metadata": {},
   "outputs": [],
   "source": [
    "# 풀이 2. heapq 모듈의 heapify 이용\n",
    "class Solution:\n",
    "    def findKthLargest(self, nums: List[int], k: int) -> int:\n",
    "        heapq.heapify(nums)\n",
    "        \n",
    "        for _ in range(len(nums) - k):\n",
    "            heapq.heappop(nums)\n",
    "            \n",
    "        return heapq.heappop(nums)"
   ]
  },
  {
   "cell_type": "code",
   "execution_count": null,
   "metadata": {},
   "outputs": [],
   "source": [
    "# 풀이 3. heapq 모듈의 nlargest 이용\n",
    "class Solution:\n",
    "    def findKthLargest(self, nums: List[int], k: int) -> int:\n",
    "        return heapq.nlargest(k, nums)[-1]"
   ]
  },
  {
   "cell_type": "code",
   "execution_count": null,
   "metadata": {},
   "outputs": [],
   "source": [
    "# 풀이 4. 정렬을 이용한 풀이\n",
    "class Solution:\n",
    "    def findKthLargest(self, nums: List[int], k: int) -> int:\n",
    "        return sorted(nums, reverse=True)[k - 1]"
   ]
  }
 ],
 "metadata": {
  "kernelspec": {
   "display_name": "Python 3",
   "language": "python",
   "name": "python3"
  },
  "language_info": {
   "codemirror_mode": {
    "name": "ipython",
    "version": 3
   },
   "file_extension": ".py",
   "mimetype": "text/x-python",
   "name": "python",
   "nbconvert_exporter": "python",
   "pygments_lexer": "ipython3",
   "version": "3.8.5"
  }
 },
 "nbformat": 4,
 "nbformat_minor": 4
}
